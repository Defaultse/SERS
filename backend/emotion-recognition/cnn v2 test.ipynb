{
 "cells": [
  {
   "cell_type": "code",
   "execution_count": 2,
   "id": "06e147e8",
   "metadata": {},
   "outputs": [
    {
     "ename": "ModuleNotFoundError",
     "evalue": "No module named 'keras'",
     "output_type": "error",
     "traceback": [
      "\u001b[1;31m---------------------------------------------------------------------------\u001b[0m",
      "\u001b[1;31mModuleNotFoundError\u001b[0m                       Traceback (most recent call last)",
      "Input \u001b[1;32mIn [2]\u001b[0m, in \u001b[0;36m<cell line: 5>\u001b[1;34m()\u001b[0m\n\u001b[0;32m      3\u001b[0m \u001b[38;5;28;01mimport\u001b[39;00m \u001b[38;5;21;01mos\u001b[39;00m\n\u001b[0;32m      4\u001b[0m \u001b[38;5;28;01mimport\u001b[39;00m \u001b[38;5;21;01mgc\u001b[39;00m\n\u001b[1;32m----> 5\u001b[0m \u001b[38;5;28;01mfrom\u001b[39;00m \u001b[38;5;21;01mkeras\u001b[39;00m\u001b[38;5;21;01m.\u001b[39;00m\u001b[38;5;21;01mlayers\u001b[39;00m \u001b[38;5;28;01mimport\u001b[39;00m Dense, Dropout, Flatten, Conv2D, MaxPooling2D\n\u001b[0;32m      6\u001b[0m get_ipython()\u001b[38;5;241m.\u001b[39mrun_line_magic(\u001b[38;5;124m'\u001b[39m\u001b[38;5;124mmatplotlib\u001b[39m\u001b[38;5;124m'\u001b[39m, \u001b[38;5;124m'\u001b[39m\u001b[38;5;124minline\u001b[39m\u001b[38;5;124m'\u001b[39m)\n\u001b[0;32m      7\u001b[0m \u001b[38;5;28;01mimport\u001b[39;00m \u001b[38;5;21;01mmatplotlib\u001b[39;00m\u001b[38;5;21;01m.\u001b[39;00m\u001b[38;5;21;01mpyplot\u001b[39;00m \u001b[38;5;28;01mas\u001b[39;00m \u001b[38;5;21;01mplt\u001b[39;00m\n",
      "\u001b[1;31mModuleNotFoundError\u001b[0m: No module named 'keras'"
     ]
    }
   ],
   "source": [
    "import numpy as np # linear algebra\n",
    "import pandas as pd # data processing, CSV file I/O (e.g. pd.read_csv)\n",
    "import os\n",
    "import gc\n",
    "from keras.layers import Dense, Dropout, Flatten, Conv2D, MaxPooling2D\n",
    "%matplotlib inline\n",
    "import matplotlib.pyplot as plt\n",
    "import librosa.display\n",
    "import librosa\n",
    "import IPython.display as ipd\n",
    "from keras.models import Sequential\n",
    "import tensorflow as tf\n",
    "from tensorflow import keras\n",
    "from tensorflow.keras import datasets, layers, models\n",
    "import matplotlib.pyplot as plt\n",
    "import glob\n",
    "import warnings\n",
    "import librosa\n",
    "import os\n",
    "from sklearn.model_selection import train_test_split\n",
    "import numpy as np\n",
    "# from tqdm import tqdm\n",
    "from keras import optimizers\n",
    "warnings.filterwarnings('ignore')"
   ]
  },
  {
   "cell_type": "code",
   "execution_count": 15,
   "id": "0f12598e",
   "metadata": {},
   "outputs": [
    {
     "name": "stdout",
     "output_type": "stream",
     "text": [
      "3.9.10 (tags/v3.9.10:f2f3f53, Jan 17 2022, 15:14:21) [MSC v.1929 64 bit (AMD64)]\n"
     ]
    }
   ],
   "source": [
    "import sys\n",
    "print(sys.version)"
   ]
  },
  {
   "cell_type": "code",
   "execution_count": 3,
   "id": "a30d970c",
   "metadata": {},
   "outputs": [
    {
     "data": {
      "text/plain": [
       "'2.8.0'"
      ]
     },
     "execution_count": 3,
     "metadata": {},
     "output_type": "execute_result"
    }
   ],
   "source": [
    "keras.__version__"
   ]
  },
  {
   "cell_type": "code",
   "execution_count": 4,
   "id": "422b85ec",
   "metadata": {},
   "outputs": [
    {
     "name": "stdout",
     "output_type": "stream",
     "text": [
      "2.8.0\n"
     ]
    }
   ],
   "source": [
    "print(tf.__version__)"
   ]
  },
  {
   "cell_type": "code",
   "execution_count": 5,
   "id": "4d8eddb6",
   "metadata": {},
   "outputs": [],
   "source": [
    "import librosa\n",
    "import os\n",
    "from sklearn.model_selection import train_test_split\n",
    "import numpy as np\n",
    "# from tqdm import tqdm\n",
    "from keras import optimizers"
   ]
  },
  {
   "cell_type": "code",
   "execution_count": 6,
   "id": "3a735424",
   "metadata": {},
   "outputs": [],
   "source": [
    "MFCC_NUM = 40\n",
    "MFCC_MAX_LEN = 2000\n",
    "SAMPLING_RATE = 44100\n",
    "feature_dim_1 = MFCC_NUM\n",
    "feature_dim_2 = MFCC_MAX_LEN\n",
    "channel = 1"
   ]
  },
  {
   "cell_type": "code",
   "execution_count": 7,
   "id": "c25a9b82",
   "metadata": {},
   "outputs": [],
   "source": [
    "emotions_ravdess={\n",
    "  '01': 1,\n",
    "  '02': 2,\n",
    "  '03': 3,\n",
    "  '04': 4,\n",
    "  '05': 5,\n",
    "  '06': 6,\n",
    "  '07': 7,\n",
    "  '08': 8\n",
    "}\n",
    "\n",
    "\n",
    "emotions_cremad={\n",
    "  'ANG':5,\n",
    "  'DIS':7,\n",
    "  'NEU':1,\n",
    "  'HAP':3,\n",
    "  'FEA':6,\n",
    "  'SAD':4\n",
    "}\n",
    "\n",
    "emotions_to_string={\n",
    "  1:'neutral',\n",
    "  2:'calm',\n",
    "  3:'happy',\n",
    "  4:'sad',\n",
    "  5:'angry',\n",
    "  6:'fearful',\n",
    "  7:'disgust',\n",
    "  8:'surprised'\n",
    "}\n",
    "\n",
    "emotions_intensity = {\n",
    "  '01':'low',\n",
    "  '02':'strong',\n",
    "}\n",
    "\n",
    "observed_emotions=[1 , 5,  3]"
   ]
  },
  {
   "cell_type": "code",
   "execution_count": 8,
   "id": "8887d4a4",
   "metadata": {},
   "outputs": [],
   "source": [
    "def extract_feature(wave, max_len=MFCC_MAX_LEN):\n",
    "    mfcc = librosa.feature.mfcc(wave, n_mfcc=MFCC_NUM, sr=SAMPLING_RATE)\n",
    "    if (max_len > mfcc.shape[1]):\n",
    "        pad_width = max_len - mfcc.shape[1]\n",
    "        mfcc = np.pad(mfcc, pad_width=((0, 0), (0, pad_width)), mode='constant')\n",
    "    else:\n",
    "        mfcc = mfcc[:, :max_len]\n",
    "    \n",
    "    return mfcc"
   ]
  },
  {
   "cell_type": "code",
   "execution_count": 9,
   "id": "2ddab3c4",
   "metadata": {},
   "outputs": [],
   "source": [
    "X = []\n",
    "y = []\n",
    "\n",
    "def append_X_Y(label, wave):\n",
    "    y.append(label)\n",
    "    mfcc = extract_feature(wave)\n",
    "    X.append(mfcc)"
   ]
  },
  {
   "cell_type": "code",
   "execution_count": 10,
   "id": "d7278523",
   "metadata": {},
   "outputs": [],
   "source": [
    "for file in glob.glob(\"C:\\\\Users\\\\User\\\\Desktop\\\\diploma\\\\diploma\\\\backend\\\\emotion-recognition\\\\ravdess\\\\Actor_*\\\\*.wav\"):\n",
    "    file_name=os.path.basename(file)\n",
    "    label=emotions_ravdess[file_name.split(\"-\")[2]] \n",
    "    if emotions_ravdess[file_name.split(\"-\")[2]] not in observed_emotions:\n",
    "        continue\n",
    "    wave, sr = librosa.load(file, mono=True, sr=44100)\n",
    "    wave = wave[::3]\n",
    "    append_X_Y(label, wave)\n",
    "    "
   ]
  },
  {
   "cell_type": "code",
   "execution_count": 11,
   "id": "4e31ae2e",
   "metadata": {},
   "outputs": [],
   "source": [
    "X = np.array(X)\n",
    "y = np.array(y)"
   ]
  },
  {
   "cell_type": "code",
   "execution_count": 12,
   "id": "6ba19ed7",
   "metadata": {},
   "outputs": [],
   "source": [
    "X_train, X_test, y_train, y_test = train_test_split(X, y, test_size= 0.25, random_state=True, shuffle=True)"
   ]
  },
  {
   "cell_type": "code",
   "execution_count": 13,
   "id": "3fc57e01",
   "metadata": {},
   "outputs": [],
   "source": [
    "model = models.Sequential()\n",
    "model.add(layers.Conv2D(32, (3, 3), activation='relu', input_shape=(feature_dim_1, feature_dim_2, channel)))\n",
    "model.add(layers.MaxPooling2D((3, 3)))\n",
    "model.add(layers.Conv2D(64, (3, 3), activation='relu'))\n",
    "model.add(layers.MaxPooling2D((3, 3)))\n",
    "model.add(layers.Conv2D(120, (3, 3), activation='relu'))\n",
    "model.add(layers.Flatten())\n",
    "model.add(layers.Dense(64, activation='relu'))\n",
    "model.add(layers.Dense(10, activation='softmax'))"
   ]
  },
  {
   "cell_type": "code",
   "execution_count": 14,
   "id": "111c17d9",
   "metadata": {},
   "outputs": [
    {
     "name": "stdout",
     "output_type": "stream",
     "text": [
      "Epoch 1/10\n",
      "6/6 [==============================] - 5s 855ms/step - loss: 8.6940 - accuracy: 0.3665 - val_loss: 1.3048 - val_accuracy: 0.4844\n",
      "Epoch 2/10\n",
      "6/6 [==============================] - 5s 831ms/step - loss: 1.0798 - accuracy: 0.5236 - val_loss: 1.0197 - val_accuracy: 0.3750\n",
      "Epoch 3/10\n",
      "6/6 [==============================] - 5s 822ms/step - loss: 0.9705 - accuracy: 0.4555 - val_loss: 0.9184 - val_accuracy: 0.5312\n",
      "Epoch 4/10\n",
      "6/6 [==============================] - 5s 837ms/step - loss: 0.8335 - accuracy: 0.5916 - val_loss: 0.8859 - val_accuracy: 0.5625\n",
      "Epoch 5/10\n",
      "6/6 [==============================] - 11s 2s/step - loss: 0.8828 - accuracy: 0.5864 - val_loss: 0.8060 - val_accuracy: 0.6094\n",
      "Epoch 6/10\n",
      "6/6 [==============================] - 5s 854ms/step - loss: 0.6904 - accuracy: 0.7225 - val_loss: 0.8773 - val_accuracy: 0.5625\n",
      "Epoch 7/10\n",
      "6/6 [==============================] - 5s 825ms/step - loss: 0.7559 - accuracy: 0.5812 - val_loss: 1.0368 - val_accuracy: 0.4844\n",
      "Epoch 8/10\n",
      "6/6 [==============================] - 5s 807ms/step - loss: 0.6371 - accuracy: 0.7382 - val_loss: 0.7480 - val_accuracy: 0.6406\n",
      "Epoch 9/10\n",
      "6/6 [==============================] - 5s 829ms/step - loss: 0.6822 - accuracy: 0.7016 - val_loss: 0.8385 - val_accuracy: 0.5781\n",
      "Epoch 10/10\n",
      "6/6 [==============================] - 5s 815ms/step - loss: 0.6445 - accuracy: 0.7382 - val_loss: 0.9389 - val_accuracy: 0.5625\n"
     ]
    }
   ],
   "source": [
    "model.compile(optimizer='sgd',\n",
    "              loss='sparse_categorical_crossentropy',\n",
    "              metrics=['accuracy'])\n",
    "\n",
    "history = model.fit(X_train, y_train, epochs=10, validation_split=0.25)"
   ]
  },
  {
   "cell_type": "code",
   "execution_count": null,
   "id": "170d9523",
   "metadata": {},
   "outputs": [],
   "source": []
  },
  {
   "cell_type": "code",
   "execution_count": null,
   "id": "38453206",
   "metadata": {},
   "outputs": [],
   "source": []
  }
 ],
 "metadata": {
  "kernelspec": {
   "display_name": "Python 3 (ipykernel)",
   "language": "python",
   "name": "python3"
  },
  "language_info": {
   "codemirror_mode": {
    "name": "ipython",
    "version": 3
   },
   "file_extension": ".py",
   "mimetype": "text/x-python",
   "name": "python",
   "nbconvert_exporter": "python",
   "pygments_lexer": "ipython3",
   "version": "3.9.12"
  }
 },
 "nbformat": 4,
 "nbformat_minor": 5
}
