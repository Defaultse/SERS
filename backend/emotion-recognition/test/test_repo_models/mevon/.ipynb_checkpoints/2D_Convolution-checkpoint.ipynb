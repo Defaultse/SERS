{
 "cells": [
  {
   "cell_type": "code",
   "execution_count": null,
   "metadata": {
    "colab": {
     "base_uri": "https://localhost:8080/",
     "height": 54
    },
    "colab_type": "code",
    "id": "jbo1de75o-75",
    "outputId": "4f9e703b-0eea-4440-e7bb-62f04c06adcb"
   },
   "outputs": [
    {
     "name": "stdout",
     "output_type": "stream",
     "text": [
      "Drive already mounted at /content/gdrive; to attempt to forcibly remount, call drive.mount(\"/content/gdrive\", force_remount=True).\n"
     ]
    }
   ],
   "source": [
    "from google.colab import drive \n",
    "drive.mount('/content/gdrive')"
   ]
  },
  {
   "cell_type": "code",
   "execution_count": null,
   "metadata": {
    "colab": {},
    "colab_type": "code",
    "id": "0jXlGPdLLGsM"
   },
   "outputs": [],
   "source": [
    "!mkdir ravdess_data\n",
    "!unzip 'gdrive/My Drive/Audio_Speech_Actors_01-24.zip' -d ravdess_data"
   ]
  },
  {
   "cell_type": "code",
   "execution_count": null,
   "metadata": {
    "colab": {},
    "colab_type": "code",
    "id": "rw7AI0AnHynS"
   },
   "outputs": [],
   "source": [
    "# !rm -rf ravdess_data/A*/03-01-02*"
   ]
  },
  {
   "cell_type": "code",
   "execution_count": null,
   "metadata": {
    "colab": {},
    "colab_type": "code",
    "id": "kxpTQqp0lNsy"
   },
   "outputs": [],
   "source": [
    "#1440\n",
    "#1248\n",
    "\n",
    "import pandas as pd\n",
    "import os\n",
    "import librosa\n",
    "import numpy as np\n",
    "lst = np.array([])\n",
    "labels = []\n",
    "i=0\n",
    "\n",
    "shapes = []\n",
    "bookmark=0\n",
    "s_arr = np.zeros((1248,13,216))\n",
    "for folder in os.listdir('ravdess_data/'):\n",
    "  for file in os.listdir(f'{\"ravdess_data/\"}{folder}'):\n",
    "        X, sample_rate = librosa.load(f'{\"ravdess_data/\"}{folder}{\"/\"}{file}', res_type='kaiser_fast',duration=2.5,sr=22050*2,offset=0.5)\n",
    "        sample_rate = np.array(sample_rate)\n",
    "        mfccs = librosa.feature.mfcc(y=X, sr=sample_rate, n_mfcc=13)\n",
    "        \n",
    "        result = np.zeros((13,216))\n",
    "        result[:mfccs.shape[0],:mfccs.shape[1]] = mfccs\n",
    "        s_arr[i] = result\n",
    "        \n",
    "        file = int(file[7:8])-1\n",
    "        if file>0:\n",
    "          file-=1\n",
    "        i+=1\n",
    "        labels.append(file)\n"
   ]
  },
  {
   "cell_type": "code",
   "execution_count": null,
   "metadata": {
    "colab": {},
    "colab_type": "code",
    "id": "BCqSSzrKJG05"
   },
   "outputs": [],
   "source": [
    "labels = np.array(labels)"
   ]
  },
  {
   "cell_type": "code",
   "execution_count": null,
   "metadata": {
    "colab": {},
    "colab_type": "code",
    "id": "gJyapGhCO3C0"
   },
   "outputs": [],
   "source": [
    "ravdess_X = s_arr\n",
    "ravdess_y = labels\n",
    "np.save('ravdess_X.npy',ravdess_X)\n",
    "np.save('ravdess_y.npy',ravdess_y)"
   ]
  },
  {
   "cell_type": "code",
   "execution_count": null,
   "metadata": {
    "colab": {
     "base_uri": "https://localhost:8080/",
     "height": 34
    },
    "colab_type": "code",
    "id": "OWYQYX9QjhpC",
    "outputId": "187e49d7-bbfd-4d9a-fb52-60d96758f766"
   },
   "outputs": [
    {
     "data": {
      "text/plain": [
       "(1248, 13, 216, 1)"
      ]
     },
     "execution_count": 458,
     "metadata": {
      "tags": []
     },
     "output_type": "execute_result"
    }
   ],
   "source": [
    "ravdess_X.shape"
   ]
  },
  {
   "cell_type": "code",
   "execution_count": null,
   "metadata": {
    "colab": {},
    "colab_type": "code",
    "id": "0bKor_igPolS"
   },
   "outputs": [],
   "source": [
    "from sklearn.utils import shuffle\n",
    "ravdess_train_X, ravdess_train_y = shuffle(ravdess_train_X, ravdess_train_y, random_state=42)"
   ]
  },
  {
   "cell_type": "code",
   "execution_count": null,
   "metadata": {
    "colab": {},
    "colab_type": "code",
    "id": "cqeCtX_KmbX5"
   },
   "outputs": [],
   "source": [
    "from sklearn.utils import shuffle\n",
    "ravdess_X, ravdess_y = shuffle(ravdess_X, ravdess_y, random_state=42)"
   ]
  },
  {
   "cell_type": "code",
   "execution_count": null,
   "metadata": {
    "colab": {},
    "colab_type": "code",
    "id": "H1ORPRhsT6vM"
   },
   "outputs": [],
   "source": [
    "ravdess_X = np.expand_dims(ravdess_X,axis=3)"
   ]
  },
  {
   "cell_type": "code",
   "execution_count": null,
   "metadata": {
    "colab": {},
    "colab_type": "code",
    "id": "_II2q-ne_iWx"
   },
   "outputs": [],
   "source": [
    "from sklearn.model_selection import train_test_split\n",
    "ravdess_train_X, ravdess_valid_X, ravdess_train_y, ravdess_valid_y  = train_test_split(ravdess_X,ravdess_y,test_size=0.2,random_state=42)"
   ]
  },
  {
   "cell_type": "code",
   "execution_count": null,
   "metadata": {
    "colab": {},
    "colab_type": "code",
    "id": "UcJd_mWmMrS3"
   },
   "outputs": [],
   "source": [
    "from sklearn.utils.class_weight import compute_class_weight\n",
    "class_weights = compute_class_weight('balanced', np.unique(ravdess_train_y),ravdess_train_y)"
   ]
  },
  {
   "cell_type": "code",
   "execution_count": null,
   "metadata": {
    "colab": {},
    "colab_type": "code",
    "id": "CUzwmZLl8Tct"
   },
   "outputs": [],
   "source": [
    "!cp ravdess_X.npy 'gdrive/My Drive/AI-Hackathon'\n",
    "!cp ravdess_y.npy 'gdrive/My Drive/AI-Hackathon'"
   ]
  },
  {
   "cell_type": "code",
   "execution_count": null,
   "metadata": {
    "colab": {},
    "colab_type": "code",
    "id": "qbodwCQQFKUD"
   },
   "outputs": [],
   "source": [
    "!cp 2d_Convolution_Ravdess_Shuffled.h5 'gdrive/My Drive/AI-Hackathon/model'"
   ]
  },
  {
   "cell_type": "code",
   "execution_count": null,
   "metadata": {
    "colab": {
     "base_uri": "https://localhost:8080/",
     "height": 34
    },
    "colab_type": "code",
    "id": "0nbezUSfMvkC",
    "outputId": "18566b4b-d7dc-415e-c35e-e59151788d82"
   },
   "outputs": [
    {
     "data": {
      "text/plain": [
       "(1248, 13, 216, 1)"
      ]
     },
     "execution_count": 346,
     "metadata": {
      "tags": []
     },
     "output_type": "execute_result"
    }
   ],
   "source": [
    "ravdess_X.shape"
   ]
  },
  {
   "cell_type": "code",
   "execution_count": null,
   "metadata": {
    "colab": {},
    "colab_type": "code",
    "id": "qFXjBPzRSgrZ"
   },
   "outputs": [],
   "source": [
    "import keras\n",
    "import numpy as np\n",
    "import matplotlib.pyplot as plt\n",
    "import tensorflow as tf\n",
    "from keras.preprocessing import sequence\n",
    "from keras.models import Sequential\n",
    "from keras.layers import Dense, Embedding\n",
    "from keras.utils import to_categorical\n",
    "from keras.layers import Input, Flatten, Dropout, Activation, BatchNormalization\n",
    "from keras.layers import Conv2D, MaxPooling2D, LSTM, Lambda\n",
    "from keras.models import Model\n",
    "from keras.callbacks import ModelCheckpoint\n",
    "from sklearn.model_selection import train_test_split\n",
    "from keras import backend as K\n",
    "\n",
    "model_ravdess = Sequential()\n",
    "kernel = 5\n",
    "model_ravdess.add(Conv2D(32, 5,strides=2,padding='same',\n",
    "                 input_shape=(13,216,1)))\n",
    "model_ravdess.add(Activation('relu'))\n",
    "model_ravdess.add(BatchNormalization())\n",
    "\n",
    "# model_ravdess.add(MaxPooling1D(pool_size=(8)))\n",
    "model_ravdess.add(Conv2D(64, 5,strides=2,padding='same',))\n",
    "model_ravdess.add(Activation('relu'))\n",
    "model_ravdess.add(BatchNormalization())\n",
    "\n",
    "model_ravdess.add(Conv2D(64, 5,strides=2,padding='same',))\n",
    "model_ravdess.add(Activation('relu'))\n",
    "model_ravdess.add(BatchNormalization())\n",
    "# model_ravdess.add(MaxPooling2D(pool_size=(2,3)))\n",
    "# model_ravdess.add(Lambda(lambda x: K.squeeze(x, axis= 1)))\n",
    "model_ravdess.add(Flatten())\n",
    "\n",
    "# model_ravdess.add(LSTM(16))\n",
    "# model_ravdess.add(Dropout(0.5))\n",
    "\n",
    "model_ravdess.add(Dense(7))\n",
    "model_ravdess.add(Activation('softmax'))\n",
    "# opt = keras.optimizers.rmsprop(lr=0.00005, rho=0.9, epsilon=None, decay=0.0)\n",
    "\n",
    "\n",
    "opt = keras.optimizers.Adam(lr=0.001, beta_1=0.9, beta_2=0.999, epsilon=None, decay=0.0, amsgrad=False)"
   ]
  },
  {
   "cell_type": "code",
   "execution_count": null,
   "metadata": {
    "colab": {
     "base_uri": "https://localhost:8080/",
     "height": 538
    },
    "colab_type": "code",
    "id": "tE2qDOrc4fME",
    "outputId": "ea58efd2-7028-425e-c2c3-d1f4cc42c46f"
   },
   "outputs": [
    {
     "name": "stdout",
     "output_type": "stream",
     "text": [
      "Model: \"sequential_45\"\n",
      "_________________________________________________________________\n",
      "Layer (type)                 Output Shape              Param #   \n",
      "=================================================================\n",
      "conv2d_133 (Conv2D)          (None, 7, 108, 32)        832       \n",
      "_________________________________________________________________\n",
      "activation_158 (Activation)  (None, 7, 108, 32)        0         \n",
      "_________________________________________________________________\n",
      "batch_normalization_133 (Bat (None, 7, 108, 32)        128       \n",
      "_________________________________________________________________\n",
      "conv2d_134 (Conv2D)          (None, 4, 54, 64)         51264     \n",
      "_________________________________________________________________\n",
      "activation_159 (Activation)  (None, 4, 54, 64)         0         \n",
      "_________________________________________________________________\n",
      "batch_normalization_134 (Bat (None, 4, 54, 64)         256       \n",
      "_________________________________________________________________\n",
      "conv2d_135 (Conv2D)          (None, 2, 27, 64)         102464    \n",
      "_________________________________________________________________\n",
      "activation_160 (Activation)  (None, 2, 27, 64)         0         \n",
      "_________________________________________________________________\n",
      "batch_normalization_135 (Bat (None, 2, 27, 64)         256       \n",
      "_________________________________________________________________\n",
      "dense_26 (Dense)             (None, 2, 27, 7)          455       \n",
      "_________________________________________________________________\n",
      "activation_161 (Activation)  (None, 2, 27, 7)          0         \n",
      "=================================================================\n",
      "Total params: 155,655\n",
      "Trainable params: 155,335\n",
      "Non-trainable params: 320\n",
      "_________________________________________________________________\n"
     ]
    }
   ],
   "source": [
    "model_ravdess.summary()"
   ]
  },
  {
   "cell_type": "code",
   "execution_count": null,
   "metadata": {
    "colab": {},
    "colab_type": "code",
    "id": "bRaYEaQWYIUs"
   },
   "outputs": [],
   "source": [
    "model_ravdess.compile(loss='sparse_categorical_crossentropy',\n",
    "              optimizer=opt,\n",
    "              metrics=['accuracy'])"
   ]
  },
  {
   "cell_type": "code",
   "execution_count": null,
   "metadata": {
    "colab": {
     "base_uri": "https://localhost:8080/",
     "height": 34
    },
    "colab_type": "code",
    "id": "CgQWTsv-X8KQ",
    "outputId": "b6ab9178-0e0a-4e63-aaa0-81a32d22873b"
   },
   "outputs": [
    {
     "data": {
      "text/plain": [
       "((998, 13, 216, 1), (998,))"
      ]
     },
     "execution_count": 447,
     "metadata": {
      "tags": []
     },
     "output_type": "execute_result"
    }
   ],
   "source": [
    "ravdess_train_X.shape, ravdess_train_y.shape"
   ]
  },
  {
   "cell_type": "code",
   "execution_count": null,
   "metadata": {
    "colab": {
     "base_uri": "https://localhost:8080/",
     "height": 364
    },
    "colab_type": "code",
    "id": "e0DsrzGP_cYB",
    "outputId": "f3427e3f-440a-4fc4-8b24-80aea118580f"
   },
   "outputs": [
    {
     "name": "stdout",
     "output_type": "stream",
     "text": [
      "Epoch 1/10\n",
      "1248/1248 [==============================] - 6s 5ms/step - loss: 0.0453 - acc: 0.9936\n",
      "Epoch 2/10\n",
      "1248/1248 [==============================] - 6s 5ms/step - loss: 0.0305 - acc: 0.9952\n",
      "Epoch 3/10\n",
      "1248/1248 [==============================] - 6s 5ms/step - loss: 0.0201 - acc: 0.9992\n",
      "Epoch 4/10\n",
      "1248/1248 [==============================] - 6s 5ms/step - loss: 0.0123 - acc: 1.0000\n",
      "Epoch 5/10\n",
      "1248/1248 [==============================] - 6s 5ms/step - loss: 0.0092 - acc: 1.0000\n",
      "Epoch 6/10\n",
      "1248/1248 [==============================] - 6s 5ms/step - loss: 0.0091 - acc: 0.9992\n",
      "Epoch 7/10\n",
      "1248/1248 [==============================] - 6s 5ms/step - loss: 0.0075 - acc: 1.0000\n",
      "Epoch 8/10\n",
      "1248/1248 [==============================] - 6s 5ms/step - loss: 0.0050 - acc: 1.0000\n",
      "Epoch 9/10\n",
      "1248/1248 [==============================] - 6s 5ms/step - loss: 0.0048 - acc: 1.0000\n",
      "Epoch 10/10\n",
      "1248/1248 [==============================] - 6s 5ms/step - loss: 0.0041 - acc: 1.0000\n"
     ]
    }
   ],
   "source": [
    "cnnhistory=model_ravdess.fit(ravdess_X, ravdess_y, batch_size=16, epochs=10, validation_data=None)"
   ]
  },
  {
   "cell_type": "code",
   "execution_count": null,
   "metadata": {
    "colab": {
     "base_uri": "https://localhost:8080/",
     "height": 52
    },
    "colab_type": "code",
    "id": "SME9k6yplzsL",
    "outputId": "55d139d0-f418-4337-ee81-2a5436f50e73"
   },
   "outputs": [
    {
     "name": "stdout",
     "output_type": "stream",
     "text": [
      "250/250 [==============================] - 0s 2ms/step\n"
     ]
    },
    {
     "data": {
      "text/plain": [
       "[1.0253960466384888, 0.6600000028610229]"
      ]
     },
     "execution_count": 457,
     "metadata": {
      "tags": []
     },
     "output_type": "execute_result"
    }
   ],
   "source": [
    "model_ravdess.evaluate(ravdess_valid_X,ravdess_valid_y)"
   ]
  },
  {
   "cell_type": "code",
   "execution_count": null,
   "metadata": {
    "colab": {},
    "colab_type": "code",
    "id": "SrNqnD8h_fjG"
   },
   "outputs": [],
   "source": [
    "model_ravdess.save(\"lstm_2d_Convolution_Ravdess_Shuffled_new.h5\")"
   ]
  },
  {
   "cell_type": "code",
   "execution_count": null,
   "metadata": {
    "colab": {},
    "colab_type": "code",
    "id": "NGZz8qRtRhEX"
   },
   "outputs": [],
   "source": [
    "model_ravdes = load_model(\"2d_Convolution_Ravdess_Shuffled.h5\")"
   ]
  },
  {
   "cell_type": "code",
   "execution_count": null,
   "metadata": {
    "colab": {},
    "colab_type": "code",
    "id": "OvZIgYvQUqNr"
   },
   "outputs": [],
   "source": [
    "model_ravdes = load_model(\"lstm_2d_Convolution_Ravdess_Shuffled.h5\")"
   ]
  },
  {
   "cell_type": "code",
   "execution_count": null,
   "metadata": {
    "colab": {},
    "colab_type": "code",
    "id": "RPZhUQGpC2ej"
   },
   "outputs": [],
   "source": [
    "cp -R 'gdrive/My Drive/Filtered Data' ."
   ]
  },
  {
   "cell_type": "code",
   "execution_count": null,
   "metadata": {
    "colab": {},
    "colab_type": "code",
    "id": "3faJFyAoDMlH"
   },
   "outputs": [],
   "source": [
    "\n",
    "X, sample_rate = librosa.load('neutral_e2.wav', res_type='kaiser_fast',duration=2.5,sr=22050*2,offset=0.5)\n",
    "sample_rate = np.array(sample_rate)\n",
    "mfccs = librosa.feature.mfcc(y=X, sr=sample_rate, n_mfcc=13)\n",
    "\n",
    "result = np.zeros((13,216))\n",
    "result[:mfccs.shape[0],:mfccs.shape[1]] = mfccs\n",
    "t_arr[0] = result\n",
    "\n",
    "t_arr.shape"
   ]
  },
  {
   "cell_type": "code",
   "execution_count": null,
   "metadata": {
    "colab": {},
    "colab_type": "code",
    "id": "pEjmUUf6SJNY"
   },
   "outputs": [],
   "source": [
    "t_arr = np.zeros((30,13,216))"
   ]
  },
  {
   "cell_type": "code",
   "execution_count": null,
   "metadata": {
    "colab": {},
    "colab_type": "code",
    "id": "kngJFbSyCglS"
   },
   "outputs": [],
   "source": [
    "!unzip 'gdrive/My Drive/Tata-Training-Diarize.zip'"
   ]
  },
  {
   "cell_type": "code",
   "execution_count": null,
   "metadata": {
    "colab": {},
    "colab_type": "code",
    "id": "0a2nnGq5UhxD"
   },
   "outputs": [],
   "source": [
    "# !mv Tata-Training-Diarize/1 Tata-Training-Diarize/temp\n",
    "# !mv Tata-Training-Diarize/2 Tata-Training-Diarize/1\n",
    "# !mv Tata-Training-Diarize/temp Tata-Training-Diarize/2"
   ]
  },
  {
   "cell_type": "code",
   "execution_count": null,
   "metadata": {
    "colab": {},
    "colab_type": "code",
    "id": "xmx89WMWR6AR"
   },
   "outputs": [],
   "source": [
    "i=0\n",
    "test_labels = []\n",
    "for folder in os.listdir('Tata-Training-Diarize'):\n",
    "  for file in os.listdir(f'{\"Tata-Training-Diarize/\"}{folder}'):\n",
    "    try:\n",
    "      X, sample_rate = librosa.load(f'{\"Tata-Training-Diarize/\"}{folder}{\"/\"}{file}', res_type='kaiser_fast',duration=2.5,sr=22050*2,offset=0.5)\n",
    "      sample_rate = np.array(sample_rate)\n",
    "      mfccs = librosa.feature.mfcc(y=X, sr=sample_rate, n_mfcc=13)\n",
    "\n",
    "      result = np.zeros((13,216))\n",
    "      result[:mfccs.shape[0],:mfccs.shape[1]] = mfccs\n",
    "      t_arr[i] = result\n",
    "\n",
    "      i+=1\n",
    "      test_labels.append(int(folder))\n",
    "    except:\n",
    "      continue\n"
   ]
  },
  {
   "cell_type": "code",
   "execution_count": null,
   "metadata": {
    "colab": {
     "base_uri": "https://localhost:8080/",
     "height": 34
    },
    "colab_type": "code",
    "id": "kZatl2E2DEx6",
    "outputId": "32c617e3-ffad-46ab-be5a-84a0ee069757"
   },
   "outputs": [
    {
     "data": {
      "text/plain": [
       "(30, 13, 216)"
      ]
     },
     "execution_count": 413,
     "metadata": {
      "tags": []
     },
     "output_type": "execute_result"
    }
   ],
   "source": [
    "t_arr.shape"
   ]
  },
  {
   "cell_type": "code",
   "execution_count": null,
   "metadata": {
    "colab": {},
    "colab_type": "code",
    "id": "NXxab1D8DpEl"
   },
   "outputs": [],
   "source": [
    "test = np.expand_dims(t_arr,axis=3)"
   ]
  },
  {
   "cell_type": "code",
   "execution_count": null,
   "metadata": {
    "colab": {
     "base_uri": "https://localhost:8080/",
     "height": 34
    },
    "colab_type": "code",
    "id": "fp_Myi45DyKC",
    "outputId": "101bcdca-af28-4f7c-f872-3fae6b26a376"
   },
   "outputs": [
    {
     "data": {
      "text/plain": [
       "(30, 13, 216, 1)"
      ]
     },
     "execution_count": 454,
     "metadata": {
      "tags": []
     },
     "output_type": "execute_result"
    }
   ],
   "source": [
    "test.shape"
   ]
  },
  {
   "cell_type": "code",
   "execution_count": null,
   "metadata": {
    "colab": {},
    "colab_type": "code",
    "id": "HsGoaA29TEv3"
   },
   "outputs": [],
   "source": [
    "classes = ['Neutral','Happy','Sad','Angry','Fearful','Disgust','Surprise']"
   ]
  },
  {
   "cell_type": "code",
   "execution_count": null,
   "metadata": {
    "colab": {
     "base_uri": "https://localhost:8080/",
     "height": 538
    },
    "colab_type": "code",
    "id": "CSKLou7LDzXS",
    "outputId": "205e8adf-f4f8-4bf3-eb14-165f35e5dab4"
   },
   "outputs": [
    {
     "name": "stdout",
     "output_type": "stream",
     "text": [
      "Sad       Sad\n",
      "Sad       Sad\n",
      "Sad       Happy\n",
      "Sad       Happy\n",
      "Sad       Happy\n",
      "Sad       Happy\n",
      "Sad       Happy\n",
      "Disgust       Happy\n",
      "Disgust       Happy\n",
      "Sad       Fearful\n",
      "Sad       Angry\n",
      "Disgust       Angry\n",
      "Sad       Angry\n",
      "Sad       Disgust\n",
      "Sad       Neutral\n",
      "Disgust       Neutral\n",
      "Disgust       Neutral\n",
      "Sad       Neutral\n",
      "Sad       Neutral\n",
      "Sad       Neutral\n",
      "Sad       Neutral\n",
      "Sad       Neutral\n",
      "Sad       Neutral\n",
      "Disgust       Neutral\n",
      "Sad       Neutral\n",
      "Sad       Neutral\n",
      "Happy       Neutral\n",
      "Sad       Neutral\n",
      "Happy       Neutral\n",
      "Sad       Neutral\n"
     ]
    }
   ],
   "source": [
    "preds = model_ravdess.predict_classes(test)\n",
    "for i in range(len(preds)):\n",
    "  print(classes[preds[i]], '     ',classes[test_labels[i]])"
   ]
  },
  {
   "cell_type": "code",
   "execution_count": null,
   "metadata": {
    "colab": {},
    "colab_type": "code",
    "id": "Hk5n67vvD4bY"
   },
   "outputs": [],
   "source": [
    "ravdess_X = t_arr\n",
    "ravdess_y = test_labels"
   ]
  },
  {
   "cell_type": "code",
   "execution_count": null,
   "metadata": {
    "colab": {},
    "colab_type": "code",
    "id": "jKzTs3kuE6uT"
   },
   "outputs": [],
   "source": [
    "ravdess_X = np.expand_dims(ravdess_X,axis=3)"
   ]
  },
  {
   "cell_type": "code",
   "execution_count": null,
   "metadata": {
    "colab": {},
    "colab_type": "code",
    "id": "Fy6XrEoMEmLZ"
   },
   "outputs": [],
   "source": [
    "from sklearn.model_selection import train_test_split\n",
    "ravdess_train_X, ravdess_valid_X, ravdess_train_y, ravdess_valid_y  = train_test_split(ravdess_X,ravdess_y,test_size=0.2,random_state=42)"
   ]
  },
  {
   "cell_type": "code",
   "execution_count": null,
   "metadata": {
    "colab": {},
    "colab_type": "code",
    "id": "QjiwzYA3f6Qn"
   },
   "outputs": [],
   "source": [
    "from sklearn.utils.class_weight import compute_class_weight\n",
    "class_weights = compute_class_weight('balanced', np.unique(ravdess_train_y),ravdess_train_y)"
   ]
  },
  {
   "cell_type": "code",
   "execution_count": null,
   "metadata": {
    "colab": {},
    "colab_type": "code",
    "id": "mvP8IOxxE_F1"
   },
   "outputs": [],
   "source": [
    "cnnhistory=model_ravdess.fit(ravdess_train_X, ravdess_train_y, batch_size=4, epochs=5, validation_data=(ravdess_valid_X, ravdess_valid_y),class_weight=class_weights)"
   ]
  },
  {
   "cell_type": "code",
   "execution_count": null,
   "metadata": {
    "colab": {
     "base_uri": "https://localhost:8080/",
     "height": 34
    },
    "colab_type": "code",
    "id": "DKyzei74fiFy",
    "outputId": "ac5bc066-cb9d-43eb-ca35-7c50e9ec148b"
   },
   "outputs": [
    {
     "data": {
      "text/plain": [
       "[0, 0, 3, 2, 1, 0, 1, 5, 3, 0, 2, 1, 0, 1, 0, 0, 0, 0, 0, 1, 3, 0, 0, 1]"
      ]
     },
     "execution_count": 412,
     "metadata": {
      "tags": []
     },
     "output_type": "execute_result"
    }
   ],
   "source": [
    "ravdess_train_y"
   ]
  },
  {
   "cell_type": "code",
   "execution_count": null,
   "metadata": {
    "colab": {},
    "colab_type": "code",
    "id": "iKV33mujFINT"
   },
   "outputs": [],
   "source": [
    "preds = model_ravdess.predict_classes(test)\n",
    "for i in range(len(preds)):\n",
    "  print(classes[preds[i]], '     ',classes[test_labels[i]])"
   ]
  },
  {
   "cell_type": "code",
   "execution_count": null,
   "metadata": {
    "colab": {},
    "colab_type": "code",
    "id": "K3xyPNsFFas8"
   },
   "outputs": [],
   "source": [
    "model_ravdess.save('lstm_trained_on_received_data.h5')"
   ]
  },
  {
   "cell_type": "code",
   "execution_count": null,
   "metadata": {
    "colab": {},
    "colab_type": "code",
    "id": "_mxzMWdcV1aa"
   },
   "outputs": [],
   "source": [
    "!cp lstm_trained_on_received_data.h5 'gdrive/My Drive/AI-Hackathon/model'"
   ]
  },
  {
   "cell_type": "code",
   "execution_count": null,
   "metadata": {
    "colab": {},
    "colab_type": "code",
    "id": "b8Tcj9gYWJcT"
   },
   "outputs": [],
   "source": [
    "cp 'gdrive/My Drive/Recording/Angry/Angry.m4a' ."
   ]
  },
  {
   "cell_type": "code",
   "execution_count": null,
   "metadata": {
    "colab": {
     "base_uri": "https://localhost:8080/",
     "height": 34
    },
    "colab_type": "code",
    "id": "p5xh43ieehVR",
    "outputId": "3761ecab-c1b6-4643-8a4c-2853868398f2"
   },
   "outputs": [
    {
     "data": {
      "text/plain": [
       "(1, 13, 216)"
      ]
     },
     "execution_count": 404,
     "metadata": {
      "tags": []
     },
     "output_type": "execute_result"
    }
   ],
   "source": [
    "temp = np.zeros((1,13,216))\n",
    "X, sample_rate = librosa.load('Angry.m4a', res_type='kaiser_fast',duration=2.5,sr=22050*2,offset=0.5)\n",
    "sample_rate = np.array(sample_rate)\n",
    "mfccs = librosa.feature.mfcc(y=X, sr=sample_rate, n_mfcc=13)\n",
    "\n",
    "result = np.zeros((13,216))\n",
    "result[:mfccs.shape[0],:mfccs.shape[1]] = mfccs\n",
    "temp[0] = result\n",
    "\n",
    "temp.shape"
   ]
  },
  {
   "cell_type": "code",
   "execution_count": null,
   "metadata": {
    "colab": {},
    "colab_type": "code",
    "id": "zsykNEoPe1YY"
   },
   "outputs": [],
   "source": [
    "t = np.expand_dims(temp,axis=3)"
   ]
  },
  {
   "cell_type": "code",
   "execution_count": null,
   "metadata": {
    "colab": {
     "base_uri": "https://localhost:8080/",
     "height": 34
    },
    "colab_type": "code",
    "id": "mgLCuY2pfWpt",
    "outputId": "a77c5358-ebac-4bd3-91e0-294579aa0496"
   },
   "outputs": [
    {
     "data": {
      "text/plain": [
       "(1, 13, 216, 1)"
      ]
     },
     "execution_count": 409,
     "metadata": {
      "tags": []
     },
     "output_type": "execute_result"
    }
   ],
   "source": [
    "t.shape"
   ]
  },
  {
   "cell_type": "code",
   "execution_count": null,
   "metadata": {
    "colab": {
     "base_uri": "https://localhost:8080/",
     "height": 34
    },
    "colab_type": "code",
    "id": "VWu4VMBleqvP",
    "outputId": "67281e90-cbb0-44fb-fa11-71c54816709b"
   },
   "outputs": [
    {
     "data": {
      "text/plain": [
       "array([1])"
      ]
     },
     "execution_count": 410,
     "metadata": {
      "tags": []
     },
     "output_type": "execute_result"
    }
   ],
   "source": [
    "model_ravdess.predict_classes(t)"
   ]
  },
  {
   "cell_type": "code",
   "execution_count": null,
   "metadata": {
    "colab": {},
    "colab_type": "code",
    "id": "m16s72vueyWn"
   },
   "outputs": [],
   "source": []
  }
 ],
 "metadata": {
  "colab": {
   "collapsed_sections": [],
   "name": "2D_Convolution.ipynb",
   "provenance": []
  },
  "kernelspec": {
   "display_name": "Python 3 (ipykernel)",
   "language": "python",
   "name": "python3"
  },
  "language_info": {
   "codemirror_mode": {
    "name": "ipython",
    "version": 3
   },
   "file_extension": ".py",
   "mimetype": "text/x-python",
   "name": "python",
   "nbconvert_exporter": "python",
   "pygments_lexer": "ipython3",
   "version": "3.9.12"
  }
 },
 "nbformat": 4,
 "nbformat_minor": 1
}
