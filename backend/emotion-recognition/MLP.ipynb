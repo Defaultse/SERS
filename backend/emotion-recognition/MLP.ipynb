{
 "cells": [
  {
   "cell_type": "code",
   "execution_count": 1,
   "id": "a5821226",
   "metadata": {},
   "outputs": [],
   "source": [
    "import librosa\n",
    "import soundfile\n",
    "import numpy as np\n",
    "import os, glob, pickle\n",
    "import librosa.display\n",
    "from librosa import display\n",
    "from sklearn.model_selection import train_test_split\n",
    "from sklearn.neural_network import MLPClassifier\n",
    "from sklearn.metrics import accuracy_score\n",
    "from sklearn.metrics import classification_report\n",
    "import matplotlib.pyplot as plt\n",
    "from sklearn.preprocessing import StandardScaler\n",
    "from IPython.display import Audio\n",
    "import warnings\n",
    "warnings.filterwarnings('ignore')"
   ]
  },
  {
   "cell_type": "markdown",
   "id": "19d37f86",
   "metadata": {},
   "source": [
    "Labels for each type of datasets"
   ]
  },
  {
   "cell_type": "code",
   "execution_count": 2,
   "id": "59a26b48",
   "metadata": {},
   "outputs": [],
   "source": [
    "emotions_cremad={\n",
    "  'ANG':'angry',\n",
    "  'DIS':'disgust',\n",
    "  'NEU':'neutral',\n",
    "  'HAP':'happy',\n",
    "  'FEA':'fearful',\n",
    "  'SAD':'sad'\n",
    "}\n",
    "\n",
    "emotions={\n",
    "  '01':'neutral',\n",
    "  '02':'calm',\n",
    "  '03':'happy',\n",
    "  '04':'sad',\n",
    "  '05':'angry',\n",
    "  '06':'fearful',\n",
    "  '07':'disgust',\n",
    "  '08':'surprised'\n",
    "}\n",
    "\n",
    "emotions_intensity = {\n",
    "  '01':'low',\n",
    "  '02':'strong',\n",
    "}\n",
    "\n",
    "observed_emotions=['neutral','angry','happy']\n",
    "\n",
    "# def gender(g):\n",
    "#     if int(g[0:2]) % 2 == 0:\n",
    "#         return 'female'\n",
    "#     else:\n",
    "#         return 'male'"
   ]
  },
  {
   "cell_type": "code",
   "execution_count": 3,
   "id": "9434af94",
   "metadata": {},
   "outputs": [],
   "source": [
    "# scaler = StandardScaler()\n",
    "# X_train = scaler.fit_transform(X_train)\n",
    "# X_test = scaler.fit_transform(X_test)"
   ]
  },
  {
   "cell_type": "markdown",
   "id": "a534f8e2",
   "metadata": {},
   "source": [
    "Extracting features from each audio file and adding it into stack"
   ]
  },
  {
   "cell_type": "code",
   "execution_count": 4,
   "id": "96c0ccfd",
   "metadata": {},
   "outputs": [],
   "source": [
    "def extract_feature(file_name):\n",
    "    X, sample_rate = librosa.load(file_name)\n",
    "    stft=np.abs(librosa.stft(X))\n",
    "    result=np.array([])\n",
    "    mfccs=np.mean(librosa.feature.mfcc(y=X, sr=sample_rate, n_mfcc=40).T,axis=0)\n",
    "    result=np.hstack((result, mfccs))\n",
    "    chroma=np.mean(librosa.feature.chroma_stft(S=stft, sr=sample_rate).T,axis=0)\n",
    "    result=np.hstack((result, chroma))\n",
    "    mel=np.mean(librosa.feature.melspectrogram(X, sr=sample_rate).T,axis=0)\n",
    "    result=np.hstack((result, mel))\n",
    "    return result"
   ]
  },
  {
   "cell_type": "markdown",
   "id": "37ec8c2d",
   "metadata": {},
   "source": [
    "Loading data from two datasets"
   ]
  },
  {
   "cell_type": "code",
   "execution_count": 5,
   "id": "62bef911",
   "metadata": {},
   "outputs": [],
   "source": [
    "def load_data(test_size=0.25):\n",
    "    x,y=[],[]\n",
    "    for file in glob.glob(\"C:\\\\Users\\\\User\\\\Desktop\\\\diploma\\\\diploma\\\\backend\\\\emotion-recognition\\\\ravdess\\\\Actor_*\\\\*.wav\"):\n",
    "        file_name=os.path.basename(file)\n",
    "        emotion=emotions[file_name.split(\"-\")[2]] \n",
    "        if emotions[file_name.split(\"-\")[2]] not in observed_emotions:\n",
    "            continue\n",
    "        feature=extract_feature(file)\n",
    "        x.append(feature)\n",
    "        y.append(emotion)\n",
    "    for file in glob.glob(\"C:\\\\Users\\\\User\\\\Desktop\\\\diploma\\\\diploma\\\\backend\\\\emotion-recognition\\\\cremad\\\\*.wav\"):\n",
    "        file_name=os.path.basename(file)\n",
    "        emotion=emotions_cremad[file_name.split(\"_\")[2]] \n",
    "        if emotion not in observed_emotions:\n",
    "            continue\n",
    "        feature=extract_feature(file)\n",
    "        x.append(feature)\n",
    "        y.append(emotion)\n",
    "    return train_test_split(np.array(x), y, test_size=test_size, random_state=9)\n"
   ]
  },
  {
   "cell_type": "code",
   "execution_count": 7,
   "id": "d030c658",
   "metadata": {},
   "outputs": [],
   "source": [
    "X_train, X_test, y_train, y_test = load_data()"
   ]
  },
  {
   "cell_type": "code",
   "execution_count": 8,
   "id": "25a10fba",
   "metadata": {},
   "outputs": [],
   "source": [
    "model=MLPClassifier(alpha=0.01, batch_size=300, hidden_layer_sizes=(100, 1500), max_iter=1000, activation='relu', learning_rate='adaptive', solver='sgd')"
   ]
  },
  {
   "cell_type": "code",
   "execution_count": 9,
   "id": "4c28d050",
   "metadata": {},
   "outputs": [
    {
     "data": {
      "text/plain": [
       "MLPClassifier(alpha=0.01, batch_size=300, hidden_layer_sizes=(100, 1500),\n",
       "              learning_rate='adaptive', max_iter=1000, solver='sgd')"
      ]
     },
     "execution_count": 9,
     "metadata": {},
     "output_type": "execute_result"
    }
   ],
   "source": [
    "model.fit(X_train,y_train)"
   ]
  },
  {
   "cell_type": "code",
   "execution_count": 10,
   "id": "fe42faf1",
   "metadata": {},
   "outputs": [],
   "source": [
    "y_pred=model.predict(X_test)"
   ]
  },
  {
   "cell_type": "code",
   "execution_count": 11,
   "id": "59d6919d",
   "metadata": {},
   "outputs": [
    {
     "data": {
      "image/png": "[encoded data removed]",
      "text/plain": [
       "<Figure size 432x288 with 1 Axes>"
      ]
     },
     "metadata": {
      "needs_background": "light"
     },
     "output_type": "display_data"
    }
   ],
   "source": [
    "plt.plot(model.loss_curve_)\n",
    "plt.title(\"Loss Curve\", fontsize=14)\n",
    "plt.xlabel('Iterations')\n",
    "plt.ylabel('Cost')\n",
    "plt.show()"
   ]
  },
  {
   "cell_type": "code",
   "execution_count": 12,
   "id": "845b06c7",
   "metadata": {},
   "outputs": [
    {
     "name": "stdout",
     "output_type": "stream",
     "text": [
      "              precision    recall  f1-score   support\n",
      "\n",
      "       angry       0.72      0.58      0.64       350\n",
      "       happy       0.56      0.51      0.53       373\n",
      "     neutral       0.61      0.83      0.70       270\n",
      "\n",
      "    accuracy                           0.62       993\n",
      "   macro avg       0.63      0.64      0.63       993\n",
      "weighted avg       0.63      0.62      0.62       993\n",
      "\n"
     ]
    }
   ],
   "source": [
    "print(classification_report(y_test, y_pred))"
   ]
  },
  {
   "cell_type": "markdown",
   "id": "8ecd9bd3",
   "metadata": {},
   "source": [
    "# Testing with new audio"
   ]
  },
  {
   "cell_type": "code",
   "execution_count": null,
   "id": "45c9484f",
   "metadata": {},
   "outputs": [],
   "source": [
    "# newFile = \"C:/Users/User/Desktop/diploma/diploma/backend/emotion-recognition/cremad/1002_IOM_HAP_XX.wav\"\n",
    "newFile = \"C:/Users/User/Desktop/diploma/diploma/backend/emotion-recognition/cremad/1002_IOM_ANG_XX.wav\"\n",
    "Audio(newFile)"
   ]
  },
  {
   "cell_type": "code",
   "execution_count": null,
   "id": "ce190b24",
   "metadata": {},
   "outputs": [],
   "source": [
    "features = [extract_feature(newFile)]\n",
    "prediction = model.predict(features)\n",
    "prediction"
   ]
  },
  {
   "cell_type": "markdown",
   "id": "8d4bd7ac",
   "metadata": {},
   "source": [
    "# For demonstration of difference between features of different emotions.\n"
   ]
  },
  {
   "cell_type": "code",
   "execution_count": null,
   "id": "fb1528da",
   "metadata": {},
   "outputs": [],
   "source": [
    "def waveplot(data, sr):\n",
    "    plt.figure(figsize=(10,4))\n",
    "    librosa.display.waveshow(data, sr=sr)\n",
    "    plt.show()\n",
    "\n",
    "def spectogram(data, sr):\n",
    "    x = librosa.stft(data)\n",
    "    xdb = librosa.amplitude_to_db(abs(x))\n",
    "    plt.figure(figsize=(10,4))\n",
    "    librosa.display.specshow(xdb, sr=sr, x_axis='time', y_axis='hz')\n",
    "    plt.colorbar()\n",
    "\n",
    "def chroma(data, sr):\n",
    "    x = librosa.feature.chroma_stft(data)\n",
    "    xdb = librosa.amplitude_to_db(abs(x))\n",
    "    plt.figure(figsize=(10,4))\n",
    "    librosa.display.specshow(xdb, sr=sr, x_axis='time', y_axis='hz')\n",
    "    plt.colorbar()"
   ]
  },
  {
   "cell_type": "code",
   "execution_count": null,
   "id": "a3ecb849",
   "metadata": {},
   "outputs": [],
   "source": [
    "# data, sr = librosa.load(\"C://Users//User//Desktop//diploma//diploma//backend//emotion-recognition//cremad//1039_IOM_NEU_XX.wav\")\n",
    "data, sr = librosa.load(\"C://Users//User//Desktop//diploma//diploma//backend//emotion-recognition//cremad//1039_IOM_ANG_XX.wav\")\n",
    "# data, sr = librosa.load(\"C://Users//User//Desktop//diploma//diploma//backend//emotion-recognition//ravdess//Actor_03//03-01-03-02-01-01-03.wav\")\n",
    "waveplot(data, sr)\n",
    "spectogram(data, sr)\n",
    "chroma(data, sr)"
   ]
  },
  {
   "cell_type": "code",
   "execution_count": null,
   "id": "c091fdda",
   "metadata": {},
   "outputs": [],
   "source": []
  },
  {
   "cell_type": "code",
   "execution_count": null,
   "id": "02f3c049",
   "metadata": {},
   "outputs": [],
   "source": []
  }
 ],
 "metadata": {
  "kernelspec": {
   "display_name": "Python 3 (ipykernel)",
   "language": "python",
   "name": "python3"
  },
  "language_info": {
   "codemirror_mode": {
    "name": "ipython",
    "version": 3
   },
   "file_extension": ".py",
   "mimetype": "text/x-python",
   "name": "python",
   "nbconvert_exporter": "python",
   "pygments_lexer": "ipython3",
   "version": "3.9.10"
  }
 },
 "nbformat": 4,
 "nbformat_minor": 5
}
