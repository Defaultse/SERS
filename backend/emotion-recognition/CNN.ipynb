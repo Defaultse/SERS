{
 "cells": [
  {
   "cell_type": "code",
   "execution_count": null,
   "id": "a539c40a",
   "metadata": {},
   "outputs": [],
   "source": [
    "import numpy as np # linear algebra\n",
    "import pandas as pd # data processing, CSV file I/O (e.g. pd.read_csv)\n",
    "import os\n",
    "import gc\n",
    "from keras.layers import Dense, Dropout, Flatten, Conv2D, MaxPooling2D\n",
    "%matplotlib inline\n",
    "import matplotlib.pyplot as plt\n",
    "import librosa.display\n",
    "import librosa\n",
    "import IPython.display as ipd\n",
    "from keras.models import Sequential\n",
    "import tensorflow as tf\n",
    "from tensorflow import keras\n",
    "from tensorflow.keras import datasets, layers, models\n",
    "from sklearn.metrics import classification_report\n",
    "import matplotlib.pyplot as plt\n",
    "import glob\n",
    "import warnings\n",
    "warnings.filterwarnings('ignore')"
   ]
  },
  {
   "cell_type": "code",
   "execution_count": null,
   "id": "08b29a72",
   "metadata": {},
   "outputs": [],
   "source": [
    "import librosa\n",
    "import os\n",
    "from sklearn.model_selection import train_test_split\n",
    "import numpy as np\n",
    "# from tqdm import tqdm\n",
    "from keras import optimizers"
   ]
  },
  {
   "cell_type": "code",
   "execution_count": null,
   "id": "7b70a063",
   "metadata": {},
   "outputs": [],
   "source": [
    "from tensorflow.python.client import device_lib\n",
    "device_lib.list_local_devices()"
   ]
  },
  {
   "cell_type": "code",
   "execution_count": null,
   "id": "e43a0ba1",
   "metadata": {},
   "outputs": [],
   "source": [
    "emotions_ravdess={\n",
    "  '01': 1,\n",
    "  '02': 2,\n",
    "  '03': 3,\n",
    "  '04': 4,\n",
    "  '05': 5,\n",
    "  '06': 6,\n",
    "  '07': 7,\n",
    "  '08': 8\n",
    "}\n",
    "\n",
    "emotions_intensity_ravdess={\n",
    "  '01': 1,\n",
    "  '02': 2\n",
    "}\n",
    "\n",
    "\n",
    "emotions_cremad={\n",
    "  'ANG':5,\n",
    "  'DIS':7,\n",
    "  'NEU':1,\n",
    "  'HAP':3,\n",
    "  'FEA':6,\n",
    "  'SAD':4\n",
    "}\n",
    "\n",
    "\n",
    "emotions_intensity_cremad={\n",
    "  'XX': 1,\n",
    "  'LO': 1,\n",
    "  'MD': 1,\n",
    "  'HI': 2,\n",
    "}\n",
    "\n",
    "emotions_to_string={\n",
    "  1:'neutral',\n",
    "  2:'calm',\n",
    "  3:'happy',\n",
    "  4:'sad',\n",
    "  5:'angry',\n",
    "  6:'fearful',\n",
    "  7:'disgust',\n",
    "  8:'surprised'\n",
    "}\n",
    "\n",
    "emotions_intensity = {\n",
    "  '01':'low',\n",
    "  '02':'strong',\n",
    "}\n",
    "\n",
    "observed_emotions=[1 , 5,  3]"
   ]
  },
  {
   "cell_type": "code",
   "execution_count": null,
   "id": "df9f934f",
   "metadata": {},
   "outputs": [],
   "source": [
    "MFCC_NUM = 40\n",
    "MFCC_MAX_LEN = 2000\n",
    "SAMPLING_RATE = 44100\n",
    "feature_dim_1 = MFCC_NUM\n",
    "feature_dim_2 = MFCC_MAX_LEN\n",
    "channel = 1"
   ]
  },
  {
   "cell_type": "code",
   "execution_count": null,
   "id": "dd9064ed",
   "metadata": {},
   "outputs": [],
   "source": [
    "def extract_feature(wave, max_len=MFCC_MAX_LEN):\n",
    "    mfcc = librosa.feature.mfcc(wave, n_mfcc=MFCC_NUM, sr=SAMPLING_RATE)\n",
    "    if (max_len > mfcc.shape[1]):\n",
    "        pad_width = max_len - mfcc.shape[1]\n",
    "        mfcc = np.pad(mfcc, pad_width=((0, 0), (0, pad_width)), mode='constant')\n",
    "    else:\n",
    "        mfcc = mfcc[:, :max_len]\n",
    "    \n",
    "    return mfcc"
   ]
  },
  {
   "cell_type": "code",
   "execution_count": null,
   "id": "11d0f5b7",
   "metadata": {},
   "outputs": [],
   "source": [
    "X = []\n",
    "y = []\n",
    "\n",
    "def append_X_Y(label, wave):\n",
    "    y.append(label)\n",
    "    mfcc = extract_feature(wave)\n",
    "    X.append(mfcc)"
   ]
  },
  {
   "cell_type": "code",
   "execution_count": null,
   "id": "9add9aa0",
   "metadata": {},
   "outputs": [],
   "source": [
    "for file in glob.glob(\"C:\\\\Users\\\\User\\\\Desktop\\\\diploma\\\\diploma\\\\backend\\\\emotion-recognition\\\\ravdess\\\\Actor_*\\\\*.wav\"):\n",
    "    file_name=os.path.basename(file)\n",
    "    \n",
    "    label=emotions_ravdess[file_name.split(\"-\")[2]] \n",
    "#     label=str(emotions_ravdess[file_name.split(\"-\")[2]]) + '_' + str(emotions_intensity_ravdess[file_name.split(\"-\")[3]]) \n",
    "    if emotions_ravdess[file_name.split(\"-\")[2]] not in observed_emotions:\n",
    "        continue\n",
    "    wave, sr = librosa.load(file, mono=True, sr=44100)\n",
    "    wave = wave[::3]\n",
    "    append_X_Y(label, wave)\n",
    "    \n",
    "\n",
    "# for file in glob.glob(\"C:\\\\Users\\\\User\\\\Desktop\\\\diploma\\\\diploma\\\\backend\\\\emotion-recognition\\\\cremad\\\\*.wav\"):\n",
    "#     file_name=os.path.basename(file)\n",
    "#     label=emotions_cremad[file_name.split(\"_\")[2]] \n",
    "# #     if emotions_cremad[file_name.split(\"_\")[2]] not in observed_emotions:\n",
    "# #         continue\n",
    "#     wave, sr = librosa.load(file, mono=True, sr=44100)\n",
    "#     wave = wave[::3]\n",
    "#     append_X_Y(label, wave)"
   ]
  },
  {
   "cell_type": "code",
   "execution_count": null,
   "id": "db0e7676",
   "metadata": {},
   "outputs": [],
   "source": [
    "X = np.array(X)\n",
    "y = np.array(y)"
   ]
  },
  {
   "cell_type": "code",
   "execution_count": null,
   "id": "b260f8e2",
   "metadata": {},
   "outputs": [],
   "source": [
    "X_train, X_test, y_train, y_test = train_test_split(X, y, test_size= 0.25, random_state=True, shuffle=True)"
   ]
  },
  {
   "cell_type": "code",
   "execution_count": null,
   "id": "f41d7cf8",
   "metadata": {},
   "outputs": [],
   "source": [
    "X_train.shape[1]"
   ]
  },
  {
   "cell_type": "code",
   "execution_count": null,
   "id": "03f0c025",
   "metadata": {},
   "outputs": [],
   "source": [
    "# for testing new model 1\n",
    "\n",
    "model = models.Sequential()\n",
    "model.add(layers.Conv2D(64, (3, 3), activation='relu', input_shape=(50, 259, channel)))\n",
    "model.add(layers.Conv2D(128, (3, 3), activation='relu', strides=(1,1), padding=0))\n",
    "model.add(layers.Conv2D(256, (3, 3), activation='relu', strides=(1,1), padding=0))\n",
    "model.add(layers.Conv2D(512, (3, 3), activation='relu', strides=(1,1), padding=0))\n",
    "model.add(layers.Conv2D(512, (2, 2), activation='relu', strides=(1,1), padding=0))\n",
    "model.add(layers.MaxPool2D((2, 2)))"
   ]
  },
  {
   "cell_type": "code",
   "execution_count": null,
   "id": "404757cb",
   "metadata": {},
   "outputs": [],
   "source": [
    "# for testing new model 2\n",
    "\n",
    "model = Sequential()\n",
    "model.add(Conv1D(256, 8, padding='same',input_shape=(X_train.shape[1],1)))\n",
    "model.add(Activation('relu'))\n",
    "model.add(Conv1D(256, 8, padding='same'))\n",
    "model.add(BatchNormalization())\n",
    "model.add(Activation('relu'))\n",
    "model.add(Dropout(0.25))\n",
    "model.add(MaxPooling1D(pool_size=(8)))\n",
    "model.add(Conv1D(128, 8, padding='same'))\n",
    "model.add(Activation('relu'))\n",
    "model.add(Conv1D(128, 8, padding='same'))\n",
    "model.add(Activation('relu'))\n",
    "model.add(Conv1D(128, 8, padding='same'))\n",
    "model.add(Activation('relu'))\n",
    "model.add(Conv1D(128, 8, padding='same'))\n",
    "model.add(BatchNormalization())\n",
    "model.add(Activation('relu'))\n",
    "model.add(Dropout(0.25))\n",
    "model.add(MaxPooling1D(pool_size=(8)))\n",
    "model.add(Conv1D(64, 8, padding='same'))\n",
    "model.add(Activation('relu'))\n",
    "model.add(Conv1D(64, 8, padding='same'))\n",
    "model.add(Activation('relu'))\n",
    "model.add(Flatten())\n",
    "model.add(Dense(14)) # Target class number\n",
    "model.add(Activation('softmax'))\n",
    "opt = tf.keras.optimizers.RMSprop(lr=0.00001, decay=1e-6)"
   ]
  },
  {
   "cell_type": "code",
   "execution_count": null,
   "id": "a97d2d3a",
   "metadata": {},
   "outputs": [],
   "source": [
    "model = models.Sequential()\n",
    "model.add(layers.Conv2D(32, (3, 3), activation='relu', input_shape=(X_train.shape[1], feature_dim_1, feature_dim_2, channel)))\n",
    "model.add(layers.MaxPooling2D((3, 3)))\n",
    "model.add(layers.Conv2D(64, (3, 3), activation='relu'))\n",
    "model.add(layers.MaxPooling2D((3, 3)))\n",
    "model.add(layers.Conv2D(120, (3, 3), activation='relu'))"
   ]
  },
  {
   "cell_type": "code",
   "execution_count": null,
   "id": "58752a8f",
   "metadata": {},
   "outputs": [],
   "source": [
    "model.add(layers.Flatten())\n",
    "model.add(layers.Dense(64, activation='relu'))\n",
    "model.add(layers.Dense(10, activation='softmax'))"
   ]
  },
  {
   "cell_type": "code",
   "execution_count": null,
   "id": "5e2e7eee",
   "metadata": {},
   "outputs": [],
   "source": [
    "model.summary()"
   ]
  },
  {
   "cell_type": "code",
   "execution_count": null,
   "id": "733a2986",
   "metadata": {},
   "outputs": [],
   "source": [
    "model.compile(optimizer='sgd',\n",
    "              loss='sparse_categorical_crossentropy',\n",
    "              metrics=['accuracy'])\n",
    "\n",
    "history = model.fit(X_train, y_train, epochs=10, validation_split=0.25)"
   ]
  },
  {
   "cell_type": "code",
   "execution_count": null,
   "id": "ed90bfe7",
   "metadata": {},
   "outputs": [],
   "source": [
    "plt.plot(history.history['accuracy'], label='accuracy')\n",
    "plt.plot(history.history['val_accuracy'], label='val_accuracy')\n",
    "plt.xlabel('Epoch')\n",
    "plt.ylabel('Accuracy')\n",
    "plt.legend(loc='lower right')\n",
    "\n",
    "test_loss, test_acc = model.evaluate(X_test, y_test, verbose=2)"
   ]
  },
  {
   "cell_type": "code",
   "execution_count": null,
   "id": "ab2eabd9",
   "metadata": {},
   "outputs": [],
   "source": [
    "print(test_acc)"
   ]
  },
  {
   "cell_type": "code",
   "execution_count": null,
   "id": "b892a96b",
   "metadata": {},
   "outputs": [],
   "source": [
    "import pickle"
   ]
  },
  {
   "cell_type": "code",
   "execution_count": null,
   "id": "5f5d544d",
   "metadata": {},
   "outputs": [],
   "source": [
    "filename = 'cnn_3_emotions_73.pkl'\n",
    "pickle.dump(model, open(filename, 'wb'))"
   ]
  },
  {
   "cell_type": "code",
   "execution_count": null,
   "id": "2198a968",
   "metadata": {},
   "outputs": [],
   "source": [
    "model.save(\"C:\\\\Users\\\\User\\\\Desktop\\\\diploma\\\\diploma\\\\backend\\\\emotion-recognition\\\\\")"
   ]
  },
  {
   "cell_type": "code",
   "execution_count": null,
   "id": "ec2fbabe",
   "metadata": {},
   "outputs": [],
   "source": [
    "newFile = \"C:/Users/User/Desktop/diploma/diploma/backend/speech-diarization/try/17_test.wav\""
   ]
  },
  {
   "cell_type": "code",
   "execution_count": null,
   "id": "ef3beadd",
   "metadata": {},
   "outputs": [],
   "source": [
    "wave, sr = librosa.load(newFile, mono=True, sr=44100)\n",
    "wave = wave[::3]\n",
    "mfcc = wav2mfcc(wave)\n",
    "X_test = mfcc.reshape(1, feature_dim_1, feature_dim_2, channel)\n",
    "preds = model.predict(X_test)[0]\n",
    "classes_x=np.argmax(preds,axis=0)\n",
    "emotions_to_string[classes_x]"
   ]
  },
  {
   "cell_type": "code",
   "execution_count": null,
   "id": "a4e51a57",
   "metadata": {},
   "outputs": [],
   "source": [
    "Emotion_labels = ['neutral', 'calm', 'happy', 'sad', 'angry', 'fearful', 'disgust', 'surprised']\n",
    "cnt_emotion_labels = [0, 0, 0, 0, 0, 0, 0, 0]\n",
    "\n",
    "emotions_ravdess={\n",
    "  '01':'neutral',\n",
    "  '02':'calm',\n",
    "  '03':'happy',\n",
    "  '04':'sad',\n",
    "  '05':'angry',\n",
    "  '06':'fearful',\n",
    "  '07':'disgust',\n",
    "  '08':'surprised'\n",
    "}\n",
    "\n",
    "\n",
    "for file in glob.glob(\"C:\\\\Users\\\\User\\\\Desktop\\\\diploma\\\\diploma\\\\backend\\\\emotion-recognition\\\\ravdess\\\\Actor_*\\\\*.wav\"):\n",
    "    file_name=os.path.basename(file)\n",
    "    cnt_emotion_labels[Emotion_labels.index(emotions_ravdess[file_name.split(\"-\")[2]])]=cnt_emotion_labels[Emotion_labels.index(emotions_ravdess[file_name.split(\"-\")[2]])]+1\n",
    "  \n",
    "\n",
    "plt.bar(Emotion_labels, cnt_emotion_labels) \n",
    "plt.show()"
   ]
  },
  {
   "cell_type": "code",
   "execution_count": null,
   "id": "970b2066",
   "metadata": {},
   "outputs": [],
   "source": [
    "Emotion_labels = ['ANG', 'DIS', 'NEU', 'HAP', 'FEA', 'SAD']\n",
    "cnt_emotion_labels = [0, 0, 0, 0, 0, 0]\n",
    "\n",
    "\n",
    "for file in glob.glob(\"C:\\\\Users\\\\User\\\\Desktop\\\\diploma\\\\diploma\\\\backend\\\\emotion-recognition\\\\cremad\\\\*.wav\"):\n",
    "    file_name=os.path.basename(file)\n",
    "    cnt_emotion_labels[Emotion_labels.index(file_name.split(\"_\")[2])]=cnt_emotion_labels[Emotion_labels.index(file_name.split(\"_\")[2])]+1\n",
    "    \n",
    "\n",
    "plt.bar(Emotion_labels, cnt_emotion_labels) \n",
    "plt.show()"
   ]
  },
  {
   "cell_type": "code",
   "execution_count": null,
   "id": "5ec34132",
   "metadata": {},
   "outputs": [],
   "source": []
  }
 ],
 "metadata": {
  "kernelspec": {
   "display_name": "Python 3 (ipykernel)",
   "language": "python",
   "name": "python3"
  },
  "language_info": {
   "codemirror_mode": {
    "name": "ipython",
    "version": 3
   },
   "file_extension": ".py",
   "mimetype": "text/x-python",
   "name": "python",
   "nbconvert_exporter": "python",
   "pygments_lexer": "ipython3",
   "version": "3.9.12"
  }
 },
 "nbformat": 4,
 "nbformat_minor": 5
}
