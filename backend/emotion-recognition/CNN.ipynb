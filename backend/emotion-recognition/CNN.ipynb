{
 "cells": [
  {
   "cell_type": "code",
   "execution_count": 1,
   "id": "a539c40a",
   "metadata": {},
   "outputs": [],
   "source": [
    "import numpy as np # linear algebra\n",
    "import pandas as pd # data processing, CSV file I/O (e.g. pd.read_csv)\n",
    "import os\n",
    "import gc\n",
    "\n",
    "from tensorflow import keras\n",
    "# from keras.layers import Dense, Dropout, Flatten, Conv2D, MaxPooling2D\n",
    "%matplotlib inline\n",
    "import matplotlib.pyplot as plt\n",
    "import librosa.display\n",
    "import librosa\n",
    "import IPython.display as ipd\n",
    "from keras.models import Sequential\n",
    "import tensorflow as tf\n",
    "from tensorflow import keras\n",
    "from tensorflow.keras import datasets, layers, models\n",
    "from sklearn.metrics import classification_report\n",
    "import matplotlib.pyplot as plt\n",
    "import glob\n",
    "import warnings\n",
    "warnings.filterwarnings('ignore')"
   ]
  },
  {
   "cell_type": "code",
   "execution_count": 2,
   "id": "08b29a72",
   "metadata": {},
   "outputs": [],
   "source": [
    "import librosa\n",
    "import os\n",
    "from sklearn.model_selection import train_test_split\n",
    "import numpy as np\n",
    "# from tqdm import tqdm\n",
    "from keras import optimizers"
   ]
  },
  {
   "cell_type": "code",
   "execution_count": 3,
   "id": "52f9f14f",
   "metadata": {},
   "outputs": [
    {
     "data": {
      "text/plain": [
       "0.0"
      ]
     },
     "execution_count": 3,
     "metadata": {},
     "output_type": "execute_result"
    }
   ],
   "source": [
    "tf.config.experimental.get_memory_info('GPU:0')['current'] / 10**9"
   ]
  },
  {
   "cell_type": "code",
   "execution_count": 4,
   "id": "e43a0ba1",
   "metadata": {},
   "outputs": [],
   "source": [
    "emotions_ravdess={\n",
    "  '01': 1,\n",
    "  '02': 2,\n",
    "  '03': 3,\n",
    "  '04': 4,\n",
    "  '05': 5,\n",
    "  '06': 6,\n",
    "  '07': 7,\n",
    "  '08': 8\n",
    "}\n",
    "\n",
    "emotions_to_string={\n",
    "  1:'neutral',\n",
    "  2:'calm',\n",
    "  3:'happy',\n",
    "  4:'sad',\n",
    "  5:'angry',\n",
    "  6:'fearful',\n",
    "  7:'disgust',\n",
    "  8:'surprised'\n",
    "}\n",
    "\n",
    "emotions_cremad={\n",
    "  'ANG':5,\n",
    "  'DIS':7,\n",
    "  'NEU':1,\n",
    "  'HAP':3,\n",
    "  'FEA':6,\n",
    "  'SAD':4\n",
    "}\n",
    "\n",
    "# observed_emotions=[1, 3, 4, 5, 6, 7]\n",
    "observed_emotions=[1, 3, 5, 4]"
   ]
  },
  {
   "cell_type": "code",
   "execution_count": 5,
   "id": "df9f934f",
   "metadata": {},
   "outputs": [],
   "source": [
    "MFCC_NUM = 100\n",
    "MFCC_MAX_LEN = 500\n",
    "SAMPLING_RATE = 44100\n",
    "feature_dim_1 = MFCC_NUM\n",
    "feature_dim_2 = MFCC_MAX_LEN\n",
    "channel = 1"
   ]
  },
  {
   "cell_type": "code",
   "execution_count": 6,
   "id": "dd9064ed",
   "metadata": {},
   "outputs": [],
   "source": [
    "def extract_feature(wave, max_len=MFCC_MAX_LEN):\n",
    "    mfcc = librosa.feature.mfcc(wave, n_mfcc=MFCC_NUM, sr=SAMPLING_RATE)\n",
    "    if (max_len > mfcc.shape[1]):\n",
    "        pad_width = max_len - mfcc.shape[1]\n",
    "        mfcc = np.pad(mfcc, pad_width=((0, 0), (0, pad_width)), mode='constant')\n",
    "    else:\n",
    "        mfcc = mfcc[:, :max_len]\n",
    "    \n",
    "    return mfcc"
   ]
  },
  {
   "cell_type": "code",
   "execution_count": 7,
   "id": "11d0f5b7",
   "metadata": {},
   "outputs": [],
   "source": [
    "X = []\n",
    "y = []\n",
    "\n",
    "def append_X_Y(label, wave):\n",
    "    y.append(label)\n",
    "    mfcc = extract_feature(wave)\n",
    "    X.append(mfcc)"
   ]
  },
  {
   "cell_type": "code",
   "execution_count": 8,
   "id": "9add9aa0",
   "metadata": {},
   "outputs": [],
   "source": [
    "for file in glob.glob(\"C:\\\\Users\\\\User\\\\Desktop\\\\diploma\\\\diploma\\\\backend\\\\emotion-recognition\\\\ravdess\\\\Actor_*\\\\*.wav\"):\n",
    "    file_name=os.path.basename(file)\n",
    "    \n",
    "    label=emotions_ravdess[file_name.split(\"-\")[2]] \n",
    "#     label=str(emotions_ravdess[file_name.split(\"-\")[2]]) + '_' + str(emotions_intensity_ravdess[file_name.split(\"-\")[3]]) \n",
    "    if emotions_ravdess[file_name.split(\"-\")[2]] not in observed_emotions:\n",
    "        continue\n",
    "    wave, sr = librosa.load(file, mono=True, sr=44100)\n",
    "    wave = wave[::3]\n",
    "    append_X_Y(label, wave)\n",
    "    \n",
    "\n",
    "for file in glob.glob(\"C:\\\\Users\\\\User\\\\Desktop\\\\diploma\\\\diploma\\\\backend\\\\emotion-recognition\\\\cremad\\\\*.wav\"):\n",
    "    file_name=os.path.basename(file)\n",
    "    label=emotions_cremad[file_name.split(\"_\")[2]] \n",
    "    if emotions_cremad[file_name.split(\"_\")[2]] not in observed_emotions:\n",
    "        continue\n",
    "    wave, sr = librosa.load(file, mono=True, sr=44100)\n",
    "    wave = wave[::3]\n",
    "    append_X_Y(label, wave)"
   ]
  },
  {
   "cell_type": "code",
   "execution_count": 9,
   "id": "eb864cfb",
   "metadata": {
    "scrolled": false
   },
   "outputs": [
    {
     "name": "stdout",
     "output_type": "stream",
     "text": [
      "(100, 500)\n",
      "---------------------------------\n",
      "---------------------------------\n",
      "[[-917.5364 -917.5364 -917.5364 ...    0.        0.        0.    ]\n",
      " [   0.        0.        0.     ...    0.        0.        0.    ]\n",
      " [   0.        0.        0.     ...    0.        0.        0.    ]\n",
      " ...\n",
      " [   0.        0.        0.     ...    0.        0.        0.    ]\n",
      " [   0.        0.        0.     ...    0.        0.        0.    ]\n",
      " [   0.        0.        0.     ...    0.        0.        0.    ]]\n"
     ]
    }
   ],
   "source": [
    "print(X[0].shape)\n",
    "print(\"---------------------------------\")\n",
    "# print(X)\n",
    "print(\"---------------------------------\")\n",
    "print(X[0])"
   ]
  },
  {
   "cell_type": "code",
   "execution_count": 10,
   "id": "db0e7676",
   "metadata": {},
   "outputs": [],
   "source": [
    "X = np.array(X)\n",
    "y = np.array(y)"
   ]
  },
  {
   "cell_type": "code",
   "execution_count": 11,
   "id": "23e59a04",
   "metadata": {},
   "outputs": [
    {
     "name": "stdout",
     "output_type": "stream",
     "text": [
      "(100, 500)\n",
      "---------------------------------\n",
      "---------------------------------\n",
      "[[-917.5364 -917.5364 -917.5364 ...    0.        0.        0.    ]\n",
      " [   0.        0.        0.     ...    0.        0.        0.    ]\n",
      " [   0.        0.        0.     ...    0.        0.        0.    ]\n",
      " ...\n",
      " [   0.        0.        0.     ...    0.        0.        0.    ]\n",
      " [   0.        0.        0.     ...    0.        0.        0.    ]\n",
      " [   0.        0.        0.     ...    0.        0.        0.    ]]\n"
     ]
    }
   ],
   "source": [
    "print(X[0].shape)\n",
    "print(\"---------------------------------\")\n",
    "# print(X)\n",
    "print(\"---------------------------------\")\n",
    "print(X[0])"
   ]
  },
  {
   "cell_type": "code",
   "execution_count": 12,
   "id": "b260f8e2",
   "metadata": {},
   "outputs": [],
   "source": [
    "X_train, X_test, y_train, y_test = train_test_split(X, y, test_size= 0.25, random_state=True, shuffle=True)"
   ]
  },
  {
   "cell_type": "code",
   "execution_count": 13,
   "id": "f41d7cf8",
   "metadata": {},
   "outputs": [
    {
     "data": {
      "text/plain": [
       "(4032, 100, 500)"
      ]
     },
     "execution_count": 13,
     "metadata": {},
     "output_type": "execute_result"
    }
   ],
   "source": [
    "X_train.shape"
   ]
  },
  {
   "cell_type": "code",
   "execution_count": 14,
   "id": "184ddb85",
   "metadata": {},
   "outputs": [],
   "source": [
    "X_train = tf.expand_dims(X_train, axis=-1)"
   ]
  },
  {
   "cell_type": "code",
   "execution_count": null,
   "id": "2cc2e2b5",
   "metadata": {},
   "outputs": [],
   "source": [
    "X_test = tf.expand_dims(X_test, axis=-1)"
   ]
  },
  {
   "cell_type": "code",
   "execution_count": 15,
   "id": "22408b8d",
   "metadata": {},
   "outputs": [
    {
     "data": {
      "text/plain": [
       "[name: \"/device:CPU:0\"\n",
       " device_type: \"CPU\"\n",
       " memory_limit: 268435456\n",
       " locality {\n",
       " }\n",
       " incarnation: 17235938373389096642,\n",
       " name: \"/device:GPU:0\"\n",
       " device_type: \"GPU\"\n",
       " memory_limit: 2254123828\n",
       " locality {\n",
       "   bus_id: 1\n",
       "   links {\n",
       "   }\n",
       " }\n",
       " incarnation: 4090237825086269367\n",
       " physical_device_desc: \"device: 0, name: NVIDIA GeForce GTX 1650 Ti, pci bus id: 0000:01:00.0, compute capability: 7.5\"]"
      ]
     },
     "execution_count": 15,
     "metadata": {},
     "output_type": "execute_result"
    }
   ],
   "source": [
    "from tensorflow.python.client import device_lib\n",
    "device_lib.list_local_devices()"
   ]
  },
  {
   "cell_type": "code",
   "execution_count": 16,
   "id": "a97d2d3a",
   "metadata": {},
   "outputs": [],
   "source": [
    "model = models.Sequential()\n",
    "model.add(layers.Conv2D(32, (3, 3), activation='relu', input_shape=(feature_dim_1, feature_dim_2, channel)))\n",
    "model.add(layers.MaxPooling2D((3, 3)))\n",
    "model.add(layers.Conv2D(64, (3, 3), activation='relu'))\n",
    "model.add(layers.MaxPooling2D((3, 3)))\n",
    "model.add(layers.Conv2D(120, (3, 3), activation='relu'))"
   ]
  },
  {
   "cell_type": "code",
   "execution_count": 17,
   "id": "58752a8f",
   "metadata": {},
   "outputs": [],
   "source": [
    "model.add(layers.Flatten())\n",
    "model.add(layers.Dense(64, activation='relu'))\n",
    "model.add(layers.Dense(10, activation='softmax'))"
   ]
  },
  {
   "cell_type": "code",
   "execution_count": 18,
   "id": "733a2986",
   "metadata": {},
   "outputs": [
    {
     "name": "stdout",
     "output_type": "stream",
     "text": [
      "Epoch 1/10\n",
      "95/95 [==============================] - 11s 58ms/step - loss: 1.5284 - accuracy: 0.4134 - val_loss: 3.0722 - val_accuracy: 0.2748\n",
      "Epoch 2/10\n",
      "95/95 [==============================] - 5s 51ms/step - loss: 1.0879 - accuracy: 0.5202 - val_loss: 1.0731 - val_accuracy: 0.4940\n",
      "Epoch 3/10\n",
      "95/95 [==============================] - 5s 51ms/step - loss: 0.9450 - accuracy: 0.5972 - val_loss: 0.9320 - val_accuracy: 0.5893\n",
      "Epoch 4/10\n",
      "95/95 [==============================] - 5s 51ms/step - loss: 0.8877 - accuracy: 0.6187 - val_loss: 0.9278 - val_accuracy: 0.6161\n",
      "Epoch 5/10\n",
      "95/95 [==============================] - 5s 51ms/step - loss: 0.8306 - accuracy: 0.6488 - val_loss: 0.9202 - val_accuracy: 0.6081\n",
      "Epoch 6/10\n",
      "95/95 [==============================] - 5s 51ms/step - loss: 0.8192 - accuracy: 0.6604 - val_loss: 0.8736 - val_accuracy: 0.6349\n",
      "Epoch 7/10\n",
      "95/95 [==============================] - 5s 51ms/step - loss: 0.7458 - accuracy: 0.6958 - val_loss: 1.0252 - val_accuracy: 0.5635\n",
      "Epoch 8/10\n",
      "95/95 [==============================] - 5s 51ms/step - loss: 0.7038 - accuracy: 0.7044 - val_loss: 1.0122 - val_accuracy: 0.5962\n",
      "Epoch 9/10\n",
      "95/95 [==============================] - 5s 51ms/step - loss: 0.6875 - accuracy: 0.7133 - val_loss: 0.7687 - val_accuracy: 0.6736\n",
      "Epoch 10/10\n",
      "95/95 [==============================] - 5s 51ms/step - loss: 0.6050 - accuracy: 0.7596 - val_loss: 0.8133 - val_accuracy: 0.6518\n"
     ]
    }
   ],
   "source": [
    "model.compile(optimizer='sgd',\n",
    "              loss='sparse_categorical_crossentropy',\n",
    "              metrics=['accuracy'])\n",
    "history = model.fit(X_train, y_train, epochs=10, validation_split=0.25)"
   ]
  },
  {
   "cell_type": "code",
   "execution_count": 19,
   "id": "5e2e7eee",
   "metadata": {},
   "outputs": [
    {
     "name": "stdout",
     "output_type": "stream",
     "text": [
      "Model: \"sequential\"\n",
      "_________________________________________________________________\n",
      "Layer (type)                 Output Shape              Param #   \n",
      "=================================================================\n",
      "conv2d (Conv2D)              (None, 98, 498, 32)       320       \n",
      "_________________________________________________________________\n",
      "max_pooling2d (MaxPooling2D) (None, 32, 166, 32)       0         \n",
      "_________________________________________________________________\n",
      "conv2d_1 (Conv2D)            (None, 30, 164, 64)       18496     \n",
      "_________________________________________________________________\n",
      "max_pooling2d_1 (MaxPooling2 (None, 10, 54, 64)        0         \n",
      "_________________________________________________________________\n",
      "conv2d_2 (Conv2D)            (None, 8, 52, 120)        69240     \n",
      "_________________________________________________________________\n",
      "flatten (Flatten)            (None, 49920)             0         \n",
      "_________________________________________________________________\n",
      "dense (Dense)                (None, 64)                3194944   \n",
      "_________________________________________________________________\n",
      "dense_1 (Dense)              (None, 10)                650       \n",
      "=================================================================\n",
      "Total params: 3,283,650\n",
      "Trainable params: 3,283,650\n",
      "Non-trainable params: 0\n",
      "_________________________________________________________________\n"
     ]
    }
   ],
   "source": [
    "model.summary()"
   ]
  },
  {
   "cell_type": "code",
   "execution_count": null,
   "id": "88e710d9",
   "metadata": {},
   "outputs": [],
   "source": []
  },
  {
   "cell_type": "code",
   "execution_count": null,
   "id": "25f341cb",
   "metadata": {},
   "outputs": [],
   "source": [
    "# MFCC_NUM = 13\n",
    "# MFCC_MAX_LEN = 216\n",
    "MFCC_NUM = 50\n",
    "MFCC_MAX_LEN = 259\n",
    "SAMPLING_RATE = 44100\n",
    "feature_dim_1 = MFCC_NUM\n",
    "feature_dim_2 = MFCC_MAX_LEN\n",
    "channel = 1"
   ]
  },
  {
   "cell_type": "code",
   "execution_count": null,
   "id": "6bce1073",
   "metadata": {},
   "outputs": [],
   "source": [
    "X = []\n",
    "y = []\n",
    "\n",
    "def append_X_Y(label, wave, sr):\n",
    "    y.append(label)\n",
    "    mfcc = extract_feature(wave, sr)\n",
    "    X.append(mfcc)"
   ]
  },
  {
   "cell_type": "code",
   "execution_count": null,
   "id": "5336767b",
   "metadata": {},
   "outputs": [],
   "source": [
    "def extract_feature(wave, sr, max_len=MFCC_MAX_LEN):\n",
    "    mfcc = librosa.feature.mfcc(wave, n_mfcc=MFCC_NUM, sr=sr)\n",
    "    if (max_len > mfcc.shape[1]):\n",
    "        pad_width = max_len - mfcc.shape[1]\n",
    "        mfcc = np.pad(mfcc, pad_width=((0, 0), (0, pad_width)), mode='constant')\n",
    "    else:\n",
    "        mfcc = mfcc[:, :max_len]\n",
    "    \n",
    "    return mfcc"
   ]
  },
  {
   "cell_type": "code",
   "execution_count": null,
   "id": "da9d506e",
   "metadata": {},
   "outputs": [],
   "source": [
    "for file in glob.glob(\"C:\\\\Users\\\\User\\\\Desktop\\\\diploma\\\\diploma\\\\backend\\\\emotion-recognition\\\\ravdess\\\\Actor_*\\\\*.wav\"):\n",
    "    file_name=os.path.basename(file)\n",
    "    label=emotions_ravdess[file_name.split(\"-\")[2]] \n",
    "#     label=str(emotions_ravdess[file_name.split(\"-\")[2]]) + '_' + str(emotions_intensity_ravdess[file_name.split(\"-\")[3]]) \n",
    "    if emotions_ravdess[file_name.split(\"-\")[2]] not in observed_emotions:\n",
    "        continue\n",
    "    wave, sr = librosa.load(file, sr=22050*2)\n",
    "    wave = wave[::3]\n",
    "    append_X_Y(label, wave, sr)\n",
    "    \n",
    "\n",
    "\n",
    "for file in glob.glob(\"C:\\\\Users\\\\User\\\\Desktop\\\\diploma\\\\diploma\\\\backend\\\\emotion-recognition\\\\cremad\\\\*.wav\"):\n",
    "    file_name=os.path.basename(file)\n",
    "    label=emotions_cremad[file_name.split(\"_\")[2]] \n",
    "    if emotions_cremad[file_name.split(\"_\")[2]] not in observed_emotions:\n",
    "        continue\n",
    "    wave, sr = librosa.load(file, sr=22050*2)\n",
    "    wave = wave[::3]\n",
    "    append_X_Y(label, wave, sr)"
   ]
  },
  {
   "cell_type": "code",
   "execution_count": null,
   "id": "57b59c41",
   "metadata": {},
   "outputs": [],
   "source": [
    "X = np.array(X)\n",
    "y = np.array(y)"
   ]
  },
  {
   "cell_type": "code",
   "execution_count": null,
   "id": "f349182b",
   "metadata": {},
   "outputs": [],
   "source": [
    "X_train, X_test, y_train, y_test = train_test_split(X, y, test_size= 0.25, random_state=42, shuffle=True)"
   ]
  },
  {
   "cell_type": "code",
   "execution_count": null,
   "id": "11251aab",
   "metadata": {},
   "outputs": [],
   "source": [
    "X_train.shape"
   ]
  },
  {
   "cell_type": "code",
   "execution_count": null,
   "id": "5a25ee56",
   "metadata": {},
   "outputs": [],
   "source": [
    "# X_train = np.expand_dims(X_train,axis=3)\n",
    "# X_test = np.expand_dims(X_test,axis=3)\n",
    "X_train = np.expand_dims(X_train,axis=-1)\n",
    "X_test = np.expand_dims(X_test,axis=-1)"
   ]
  },
  {
   "cell_type": "code",
   "execution_count": null,
   "id": "8de9d3d8",
   "metadata": {},
   "outputs": [],
   "source": [
    "from tensorflow.python.client import device_lib\n",
    "device_lib.list_local_devices()"
   ]
  },
  {
   "cell_type": "code",
   "execution_count": null,
   "id": "0d304767",
   "metadata": {},
   "outputs": [],
   "source": [
    "#  Testing new model\n",
    "model = Sequential()\n",
    "model.add(layers.Conv2D(32, (3, 3),strides=(1,1),padding=\"same\",\n",
    "                 input_shape=(50, 259, 1)))\n",
    "model.add(layers.Activation('relu'))\n",
    "model.add(layers.BatchNormalization())\n",
    "model.add(layers.Conv2D(128, (3, 3),strides=(1,1),padding=\"same\",))\n",
    "model.add(layers.Activation('relu'))\n",
    "model.add(layers.BatchNormalization())\n",
    "model.add(layers.Conv2D(256, (3, 3),strides=(1,1),padding=\"same\",))\n",
    "model.add(layers.Activation('relu'))\n",
    "model.add(layers.BatchNormalization())\n",
    "model.add(layers.Conv2D(512, (3, 3),strides=(1,1),padding=\"same\",))\n",
    "model.add(layers.Activation('relu'))\n",
    "model.add(layers.BatchNormalization())\n",
    "model.add(layers.Conv2D(512, (2, 2),strides=(1,1),padding=\"same\",))\n",
    "model.add(layers.Activation('relu'))\n",
    "model.add(layers.BatchNormalization())\n",
    "model.add(layers.MaxPooling2D((2, 2)))\n",
    "model.add(layers.Flatten())\n",
    "model.add(layers.Dense(7))\n",
    "model.add(layers.Activation('softmax'))"
   ]
  },
  {
   "cell_type": "code",
   "execution_count": null,
   "id": "22897add",
   "metadata": {},
   "outputs": [],
   "source": [
    "#  Testing new model 2\n",
    "model = Sequential()\n",
    "model.add(layers.Conv2D(64, 5, strides=2,padding='same',\n",
    "                 input_shape=(13, 216, 1)))\n",
    "model.add(layers.Activation('relu'))\n",
    "model.add(layers.BatchNormalization())\n",
    "model.add(layers.Conv2D(64, 5,strides=2,padding='same',))\n",
    "model.add(layers.Activation('relu'))\n",
    "model.add(layers.BatchNormalization())\n",
    "model.add(layers.Conv2D(64, 5,strides=2,padding='same',))\n",
    "model.add(layers.Activation('relu'))\n",
    "model.add(layers.BatchNormalization())\n",
    "model.add(layers.Flatten())\n",
    "\n",
    "model.add(layers.Dense(7))\n",
    "# model.add(layers.Dense(64, activation='relu'))\n",
    "# model.add(layers.Dense(10, activation='softmax'))\n",
    "model.add(layers.Activation('softmax'))"
   ]
  },
  {
   "cell_type": "code",
   "execution_count": null,
   "id": "35b08fab",
   "metadata": {
    "scrolled": true
   },
   "outputs": [],
   "source": [
    "opt = keras.optimizers.Adam(lr=0.001, beta_1=0.9, beta_2=0.999, epsilon=None, decay=0.0, amsgrad=False)\n",
    "model.compile(loss='sparse_categorical_crossentropy',\n",
    "              optimizer=opt,\n",
    "              metrics=['accuracy'])\n",
    "\n",
    "history = model.fit(X_train, y_train, batch_size=16, epochs=50, validation_split=0.25)"
   ]
  },
  {
   "cell_type": "code",
   "execution_count": null,
   "id": "ed90bfe7",
   "metadata": {},
   "outputs": [],
   "source": [
    "plt.plot(history.history['accuracy'], label='accuracy')\n",
    "plt.plot(history.history['val_accuracy'], label='val_accuracy')\n",
    "plt.xlabel('Epoch')\n",
    "plt.ylabel('Accuracy')\n",
    "plt.legend(loc='lower right')\n",
    "\n",
    "test_loss, test_acc = model.evaluate(X_test, y_test, verbose=2)"
   ]
  },
  {
   "cell_type": "code",
   "execution_count": null,
   "id": "628c5287",
   "metadata": {},
   "outputs": [],
   "source": [
    "import seaborn as sn\n",
    "from sklearn.metrics import accuracy_score,classification_report, confusion_matrix, f1_score"
   ]
  },
  {
   "cell_type": "code",
   "execution_count": null,
   "id": "7bd30826",
   "metadata": {},
   "outputs": [],
   "source": [
    "\n",
    "XTestProcessed = np.expand_dims(X_test, axis=-1)"
   ]
  },
  {
   "cell_type": "code",
   "execution_count": null,
   "id": "001c4c85",
   "metadata": {},
   "outputs": [],
   "source": [
    "y_pred = model.predict(XTestProcessed)"
   ]
  },
  {
   "cell_type": "code",
   "execution_count": null,
   "id": "c42806c1",
   "metadata": {},
   "outputs": [],
   "source": [
    "confusion_emotions = ['angry', 'happy', 'neutral', 'angry', 'angry', 'angry']\n",
    "\n",
    "emotions_to_string={\n",
    "  1:'neutral',\n",
    "  3:'happy',\n",
    "  5:'angry',\n",
    "  6:'fearful',\n",
    "  7:'disgust',\n",
    "}\n",
    "\n",
    "cm=confusion_matrix(y_test,np.argmax(y_pred,axis=-1))\n",
    "\n",
    "print(emotions_to_string[np.argmax(y_pred[0],axis=0)])\n",
    "\n",
    "df_cm=pd.DataFrame(cm,index=[i for i in emotions_to_string],columns=[i for i in emotions_to_string])\n",
    "plt.figure(figsize=(10,7))\n",
    "sn.heatmap(df_cm,annot=True)"
   ]
  },
  {
   "cell_type": "code",
   "execution_count": null,
   "id": "ffac35b9",
   "metadata": {},
   "outputs": [],
   "source": [
    "XTestProcessed = np.expand_dims(X_test, axis=-1)\n",
    "y_pred = model.predict(XTestProcessed)\n",
    "\n",
    "cnt_all = 0\n",
    "cnt_true = 0\n",
    "\n",
    "for i in range(len(y_pred)):\n",
    "    classes_x=np.argmax(y_pred[i],axis=0)\n",
    "    if (emotions_to_string[classes_x]==emotions_to_string[y[i]] and emotions_to_string[y[i]]=='angry'):\n",
    "        cnt_true+=1\n",
    "    if (emotions_to_string[classes_x]=='angry'):\n",
    "        cnt_all+=1\n",
    "#     print(emotions_to_string[classes_x], '     ',emotions_to_string[y[i]])\n",
    "\n",
    "print(cnt_true/cnt_all)"
   ]
  },
  {
   "cell_type": "code",
   "execution_count": null,
   "id": "daa6ade6",
   "metadata": {},
   "outputs": [],
   "source": [
    "f1_score(y_test,np.argmax(y_pred,axis=-1),average='weighted')"
   ]
  },
  {
   "cell_type": "code",
   "execution_count": null,
   "id": "ab2eabd9",
   "metadata": {},
   "outputs": [],
   "source": [
    "print(test_acc)"
   ]
  },
  {
   "cell_type": "code",
   "execution_count": null,
   "id": "37cd125a",
   "metadata": {},
   "outputs": [],
   "source": []
  },
  {
   "cell_type": "code",
   "execution_count": null,
   "id": "f13d6c5d",
   "metadata": {},
   "outputs": [],
   "source": []
  },
  {
   "cell_type": "code",
   "execution_count": null,
   "id": "4ce82b4f",
   "metadata": {},
   "outputs": [],
   "source": []
  },
  {
   "cell_type": "code",
   "execution_count": null,
   "id": "50525774",
   "metadata": {},
   "outputs": [],
   "source": []
  },
  {
   "cell_type": "code",
   "execution_count": null,
   "id": "cbb0fea0",
   "metadata": {},
   "outputs": [],
   "source": []
  },
  {
   "cell_type": "code",
   "execution_count": null,
   "id": "8134bd73",
   "metadata": {},
   "outputs": [],
   "source": []
  },
  {
   "cell_type": "code",
   "execution_count": null,
   "id": "b892a96b",
   "metadata": {},
   "outputs": [],
   "source": [
    "import pickle"
   ]
  },
  {
   "cell_type": "code",
   "execution_count": null,
   "id": "5f5d544d",
   "metadata": {},
   "outputs": [],
   "source": [
    "filename = 'cnn_model_all_emotions_v2.pkl'\n",
    "pickle.dump(model, open(filename, 'wb'))"
   ]
  },
  {
   "cell_type": "code",
   "execution_count": 20,
   "id": "2198a968",
   "metadata": {},
   "outputs": [
    {
     "name": "stdout",
     "output_type": "stream",
     "text": [
      "INFO:tensorflow:Assets written to: C:\\Users\\User\\Desktop\\diploma\\diploma\\backend\\emotion-recognition\\cnn_model_v2\\assets\n"
     ]
    }
   ],
   "source": [
    "model.save(\"C:\\\\Users\\\\User\\\\Desktop\\\\diploma\\\\diploma\\\\backend\\\\emotion-recognition\\\\cnn_model_v2\\\\\")"
   ]
  },
  {
   "cell_type": "code",
   "execution_count": null,
   "id": "f35a2bf3",
   "metadata": {},
   "outputs": [],
   "source": [
    "plt.figure(figsize=(12, 4))\n",
    "plt.subplot(1, 2, 1)\n",
    "plt.plot(history.history['loss'], 'b-', label='loss')\n",
    "plt.plot(history.history['val_loss'], 'r--', label='val_loss')\n",
    "plt.xlabel('Epoch')\n",
    "plt.ylabel('Loss')\n",
    "plt.legend()\n",
    "\n",
    "plt.subplot(1, 2, 2)\n",
    "plt.plot(history.history['accuracy'], 'g-', label='accuracy')\n",
    "plt.plot(history.history['val_accuracy'], 'k--', label='val_accuracy')\n",
    "plt.xlabel('Epoch')\n",
    "plt.ylabel('Accuracy')\n",
    "plt.ylim(0.7, 1)\n",
    "plt.legend()\n",
    "\n",
    "plt.show()\n",
    "\n",
    "# test\n",
    "test_loss, test_acc = model.evaluate(X_test, y_test, verbose=2)"
   ]
  },
  {
   "cell_type": "code",
   "execution_count": null,
   "id": "ec2fbabe",
   "metadata": {},
   "outputs": [],
   "source": [
    "newFile = \"C:/Users/User/Desktop/diploma/diploma/backend/speech-diarization/try/47_test.wav\"\n",
    "newFile = \"C:/Users/User/Desktop/diploma/diploma/backend/emotion-recognition/ravdess/Actor_04/03-01-03-02-01-01-04.wav\""
   ]
  },
  {
   "cell_type": "code",
   "execution_count": null,
   "id": "ef3beadd",
   "metadata": {},
   "outputs": [],
   "source": [
    "wave, sr = librosa.load(newFile, mono=True, sr=44100)\n",
    "wave = wave[::3]\n",
    "mfcc = extract_feature(wave, sr)\n",
    "X_test = mfcc.reshape(1, feature_dim_1, feature_dim_2, channel)\n",
    "preds = model.predict(X_test)[0]\n",
    "classes_x=np.argmax(preds,axis=0)\n",
    "emotions_to_string[classes_x]"
   ]
  },
  {
   "cell_type": "code",
   "execution_count": null,
   "id": "59ccf0ff",
   "metadata": {},
   "outputs": [],
   "source": []
  },
  {
   "cell_type": "code",
   "execution_count": null,
   "id": "2d21272d",
   "metadata": {},
   "outputs": [],
   "source": []
  },
  {
   "cell_type": "code",
   "execution_count": null,
   "id": "4864da0b",
   "metadata": {},
   "outputs": [],
   "source": []
  },
  {
   "cell_type": "code",
   "execution_count": null,
   "id": "a4e51a57",
   "metadata": {},
   "outputs": [],
   "source": [
    "Emotion_labels = ['neutral', 'calm', 'happy', 'sad', 'angry', 'fearful', 'disgust', 'surprised']\n",
    "cnt_emotion_labels = [0, 0, 0, 0, 0, 0, 0, 0]\n",
    "\n",
    "emotions_ravdess={\n",
    "  '01':'neutral',\n",
    "  '02':'calm',\n",
    "  '03':'happy',\n",
    "  '04':'sad',\n",
    "  '05':'angry',\n",
    "  '06':'fearful',\n",
    "  '07':'disgust',\n",
    "  '08':'surprised'\n",
    "}\n",
    "\n",
    "\n",
    "for file in glob.glob(\"C:\\\\Users\\\\User\\\\Desktop\\\\diploma\\\\diploma\\\\backend\\\\emotion-recognition\\\\ravdess\\\\Actor_*\\\\*.wav\"):\n",
    "    file_name=os.path.basename(file)\n",
    "    cnt_emotion_labels[Emotion_labels.index(emotions_ravdess[file_name.split(\"-\")[2]])]=cnt_emotion_labels[Emotion_labels.index(emotions_ravdess[file_name.split(\"-\")[2]])]+1\n",
    "  \n",
    "\n",
    "plt.bar(Emotion_labels, cnt_emotion_labels) \n",
    "plt.show()"
   ]
  },
  {
   "cell_type": "code",
   "execution_count": null,
   "id": "970b2066",
   "metadata": {},
   "outputs": [],
   "source": [
    "Emotion_labels = ['ANG', 'DIS', 'NEU', 'HAP', 'FEA', 'SAD']\n",
    "cnt_emotion_labels = [0, 0, 0, 0, 0, 0]\n",
    "\n",
    "\n",
    "for file in glob.glob(\"C:\\\\Users\\\\User\\\\Desktop\\\\diploma\\\\diploma\\\\backend\\\\emotion-recognition\\\\cremad\\\\*.wav\"):\n",
    "    file_name=os.path.basename(file)\n",
    "    cnt_emotion_labels[Emotion_labels.index(file_name.split(\"_\")[2])]=cnt_emotion_labels[Emotion_labels.index(file_name.split(\"_\")[2])]+1\n",
    "    \n",
    "\n",
    "plt.bar(Emotion_labels, cnt_emotion_labels) \n",
    "plt.show()"
   ]
  },
  {
   "cell_type": "code",
   "execution_count": null,
   "id": "5ec34132",
   "metadata": {},
   "outputs": [],
   "source": []
  },
  {
   "cell_type": "code",
   "execution_count": null,
   "id": "03f0c025",
   "metadata": {},
   "outputs": [],
   "source": [
    "# for testing new model 1\n",
    "\n",
    "model = models.Sequential()\n",
    "model.add(layers.Conv2D(64, (3, 3), activation='relu', input_shape=(50, 259, channel)))\n",
    "model.add(layers.Conv2D(128, (3, 3), activation='relu', strides=(1,1), padding=0))\n",
    "model.add(layers.Conv2D(256, (3, 3), activation='relu', strides=(1,1), padding=0))\n",
    "model.add(layers.Conv2D(512, (3, 3), activation='relu', strides=(1,1), padding=0))\n",
    "model.add(layers.Conv2D(512, (2, 2), activation='relu', strides=(1,1), padding=0))\n",
    "model.add(layers.MaxPool2D((2, 2)))"
   ]
  },
  {
   "cell_type": "code",
   "execution_count": null,
   "id": "404757cb",
   "metadata": {},
   "outputs": [],
   "source": [
    "# for testing new model 2\n",
    "\n",
    "model = Sequential()\n",
    "model.add(Conv1D(256, 8, padding='same',input_shape=(X_train.shape[1],1)))\n",
    "model.add(Activation('relu'))\n",
    "model.add(Conv1D(256, 8, padding='same'))\n",
    "model.add(BatchNormalization())\n",
    "model.add(Activation('relu'))\n",
    "model.add(Dropout(0.25))\n",
    "model.add(MaxPooling1D(pool_size=(8)))\n",
    "model.add(Conv1D(128, 8, padding='same'))\n",
    "model.add(Activation('relu'))\n",
    "model.add(Conv1D(128, 8, padding='same'))\n",
    "model.add(Activation('relu'))\n",
    "model.add(Conv1D(128, 8, padding='same'))\n",
    "model.add(Activation('relu'))\n",
    "model.add(Conv1D(128, 8, padding='same'))\n",
    "model.add(BatchNormalization())\n",
    "model.add(Activation('relu'))\n",
    "model.add(Dropout(0.25))\n",
    "model.add(MaxPooling1D(pool_size=(8)))\n",
    "model.add(Conv1D(64, 8, padding='same'))\n",
    "model.add(Activation('relu'))\n",
    "model.add(Conv1D(64, 8, padding='same'))\n",
    "model.add(Activation('relu'))\n",
    "model.add(Flatten())\n",
    "model.add(Dense(14)) # Target class number\n",
    "model.add(Activation('softmax'))\n",
    "opt = tf.keras.optimizers.RMSprop(lr=0.00001, decay=1e-6)"
   ]
  }
 ],
 "metadata": {
  "kernelspec": {
   "display_name": "Python 3 (ipykernel)",
   "language": "python",
   "name": "python3"
  },
  "language_info": {
   "codemirror_mode": {
    "name": "ipython",
    "version": 3
   },
   "file_extension": ".py",
   "mimetype": "text/x-python",
   "name": "python",
   "nbconvert_exporter": "python",
   "pygments_lexer": "ipython3",
   "version": "3.9.12"
  }
 },
 "nbformat": 4,
 "nbformat_minor": 5
}
