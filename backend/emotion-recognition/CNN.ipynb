{
 "cells": [
  {
   "cell_type": "code",
   "execution_count": 4,
   "id": "a539c40a",
   "metadata": {},
   "outputs": [],
   "source": [
    "import numpy as np # linear algebra\n",
    "import pandas as pd # data processing, CSV file I/O (e.g. pd.read_csv)\n",
    "import os\n",
    "import gc\n",
    "from keras.layers import Dense, Dropout, Flatten, Conv2D, MaxPooling2D\n",
    "%matplotlib inline\n",
    "import matplotlib.pyplot as plt\n",
    "import librosa.display\n",
    "import librosa\n",
    "import IPython.display as ipd\n",
    "from keras.models import Sequential\n",
    "import tensorflow as tf\n",
    "from tensorflow import keras\n",
    "from tensorflow.keras import datasets, layers, models\n",
    "import matplotlib.pyplot as plt\n",
    "import glob\n",
    "import warnings\n",
    "warnings.filterwarnings('ignore')"
   ]
  },
  {
   "cell_type": "code",
   "execution_count": 5,
   "id": "08b29a72",
   "metadata": {},
   "outputs": [],
   "source": [
    "import librosa\n",
    "import os\n",
    "from sklearn.model_selection import train_test_split\n",
    "import numpy as np\n",
    "from tqdm import tqdm\n",
    "from keras import optimizers"
   ]
  },
  {
   "cell_type": "code",
   "execution_count": 6,
   "id": "e43a0ba1",
   "metadata": {},
   "outputs": [],
   "source": [
    "emotions_ravdess={\n",
    "  '01': 1,\n",
    "  '02': 2,\n",
    "  '03': 3,\n",
    "  '04': 4,\n",
    "  '05': 5,\n",
    "  '06': 6,\n",
    "  '07': 7,\n",
    "  '08': 8\n",
    "}\n",
    "\n",
    "# emotions={\n",
    "#   '01':'neutral',\n",
    "#   '02':'calm',\n",
    "#   '03':'happy',\n",
    "#   '04':'sad',\n",
    "#   '05':'angry',\n",
    "#   '06':'fearful',\n",
    "#   '07':'disgust',\n",
    "#   '08':'surprised'\n",
    "# }\n",
    "\n",
    "emotions_cremad={\n",
    "  'ANG':5,\n",
    "  'DIS':7,\n",
    "  'NEU':1,\n",
    "  'HAP':3,\n",
    "  'FEA':6,\n",
    "  'SAD':4\n",
    "}\n",
    "\n",
    "emotions_to_string={\n",
    "  1:'neutral',\n",
    "  2:'calm',\n",
    "  3:'happy',\n",
    "  4:'sad',\n",
    "  5:'angry',\n",
    "  6:'fearful',\n",
    "  7:'disgust',\n",
    "  8:'surprised'\n",
    "}\n",
    "\n",
    "emotions_intensity = {\n",
    "  '01':'low',\n",
    "  '02':'strong',\n",
    "}\n",
    "\n",
    "observed_emotions=[1 , 5,  3]"
   ]
  },
  {
   "cell_type": "code",
   "execution_count": 7,
   "id": "df9f934f",
   "metadata": {},
   "outputs": [],
   "source": [
    "MFCC_NUM = 40\n",
    "MFCC_MAX_LEN = 2000\n",
    "SAMPLING_RATE = 44100\n",
    "feature_dim_1 = MFCC_NUM\n",
    "feature_dim_2 = MFCC_MAX_LEN\n",
    "channel = 1"
   ]
  },
  {
   "cell_type": "code",
   "execution_count": 8,
   "id": "dd9064ed",
   "metadata": {},
   "outputs": [],
   "source": [
    "def wav2mfcc(wave, max_len=MFCC_MAX_LEN):\n",
    "#     mfcc = librosa.feature.mfcc(wave, sr=16000)\n",
    "    mfcc = librosa.feature.mfcc(wave, n_mfcc=MFCC_NUM, sr=SAMPLING_RATE)\n",
    "\n",
    "    # If maximum length exceeds mfcc lengths then pad the remaining ones\n",
    "    if (max_len > mfcc.shape[1]):\n",
    "        pad_width = max_len - mfcc.shape[1]\n",
    "        mfcc = np.pad(mfcc, pad_width=((0, 0), (0, pad_width)), mode='constant')\n",
    "\n",
    "    # Else cutoff the remaining parts\n",
    "    else:\n",
    "        mfcc = mfcc[:, :max_len]\n",
    "    \n",
    "    return mfcc"
   ]
  },
  {
   "cell_type": "code",
   "execution_count": 9,
   "id": "11d0f5b7",
   "metadata": {},
   "outputs": [],
   "source": [
    "X = []\n",
    "y = []\n",
    "\n",
    "def append_X_Y(label, wave):\n",
    "    y.append(label)\n",
    "    mfcc = wav2mfcc(wave)\n",
    "    X.append(mfcc)"
   ]
  },
  {
   "cell_type": "code",
   "execution_count": 10,
   "id": "9add9aa0",
   "metadata": {},
   "outputs": [],
   "source": [
    "for file in glob.glob(\"C:\\\\Users\\\\User\\\\Desktop\\\\diploma\\\\diploma\\\\backend\\\\emotion-recognition\\\\ravdess\\\\Actor_*\\\\*.wav\"):\n",
    "    file_name=os.path.basename(file)\n",
    "    label=emotions_ravdess[file_name.split(\"-\")[2]] \n",
    "    if emotions_ravdess[file_name.split(\"-\")[2]] not in observed_emotions:\n",
    "        continue\n",
    "    wave, sr = librosa.load(file, mono=True, sr=44100)\n",
    "    wave = wave[::3]\n",
    "    append_X_Y(label, wave)\n",
    "    \n",
    "\n",
    "for file in glob.glob(\"C:\\\\Users\\\\User\\\\Desktop\\\\diploma\\\\diploma\\\\backend\\\\emotion-recognition\\\\cremad\\\\*.wav\"):\n",
    "    file_name=os.path.basename(file)\n",
    "    label=emotions_cremad[file_name.split(\"_\")[2]] \n",
    "    if emotions_cremad[file_name.split(\"_\")[2]] not in observed_emotions:\n",
    "        continue\n",
    "    wave, sr = librosa.load(file, mono=True, sr=44100)\n",
    "    wave = wave[::3]\n",
    "    append_X_Y(label, wave)"
   ]
  },
  {
   "cell_type": "code",
   "execution_count": 11,
   "id": "db0e7676",
   "metadata": {},
   "outputs": [],
   "source": [
    "X = np.array(X)\n",
    "y = np.array(y)"
   ]
  },
  {
   "cell_type": "code",
   "execution_count": 12,
   "id": "b260f8e2",
   "metadata": {},
   "outputs": [],
   "source": [
    "X_train, X_test, y_train, y_test = train_test_split(X, y, test_size= 0.25, random_state=True, shuffle=True)"
   ]
  },
  {
   "cell_type": "code",
   "execution_count": 13,
   "id": "f41d7cf8",
   "metadata": {},
   "outputs": [
    {
     "data": {
      "text/plain": [
       "(2976, 40, 2000)"
      ]
     },
     "execution_count": 13,
     "metadata": {},
     "output_type": "execute_result"
    }
   ],
   "source": [
    "X_train.shape"
   ]
  },
  {
   "cell_type": "code",
   "execution_count": 14,
   "id": "a97d2d3a",
   "metadata": {},
   "outputs": [],
   "source": [
    "model = models.Sequential()\n",
    "model.add(layers.Conv2D(32, (3, 3), activation='relu', input_shape=(feature_dim_1, feature_dim_2, channel)))\n",
    "model.add(layers.MaxPooling2D((3, 3)))\n",
    "model.add(layers.Conv2D(64, (3, 3), activation='relu'))\n",
    "model.add(layers.MaxPooling2D((3, 3)))\n",
    "model.add(layers.Conv2D(120, (3, 3), activation='relu'))"
   ]
  },
  {
   "cell_type": "code",
   "execution_count": 15,
   "id": "58752a8f",
   "metadata": {},
   "outputs": [],
   "source": [
    "model.add(layers.Flatten())\n",
    "model.add(layers.Dense(64, activation='relu'))\n",
    "model.add(layers.Dense(10, activation='softmax'))"
   ]
  },
  {
   "cell_type": "code",
   "execution_count": 18,
   "id": "493c95d3",
   "metadata": {},
   "outputs": [
    {
     "name": "stdout",
     "output_type": "stream",
     "text": [
      "Epoch 1/10\n",
      "70/70 [==============================] - 56s 795ms/step - loss: 0.7826 - accuracy: 0.6277 - val_loss: 0.7728 - val_accuracy: 0.5995\n",
      "Epoch 2/10\n",
      "70/70 [==============================] - 55s 793ms/step - loss: 0.7362 - accuracy: 0.6568 - val_loss: 0.7270 - val_accuracy: 0.6694\n",
      "Epoch 3/10\n",
      "70/70 [==============================] - 56s 801ms/step - loss: 0.7478 - accuracy: 0.6528 - val_loss: 0.7933 - val_accuracy: 0.6022\n",
      "Epoch 4/10\n",
      "70/70 [==============================] - 81s 1s/step - loss: 0.7101 - accuracy: 0.6720 - val_loss: 0.6961 - val_accuracy: 0.6828\n",
      "Epoch 5/10\n",
      "70/70 [==============================] - 75s 1s/step - loss: 0.6853 - accuracy: 0.6980 - val_loss: 0.7311 - val_accuracy: 0.6788\n",
      "Epoch 6/10\n",
      "70/70 [==============================] - 62s 888ms/step - loss: 0.6576 - accuracy: 0.7074 - val_loss: 0.7847 - val_accuracy: 0.6586\n",
      "Epoch 7/10\n",
      "70/70 [==============================] - 63s 897ms/step - loss: 0.6341 - accuracy: 0.7168 - val_loss: 1.0343 - val_accuracy: 0.5739\n",
      "Epoch 8/10\n",
      "70/70 [==============================] - 63s 897ms/step - loss: 0.6338 - accuracy: 0.7285 - val_loss: 0.8696 - val_accuracy: 0.6371\n",
      "Epoch 9/10\n",
      "70/70 [==============================] - 57s 810ms/step - loss: 0.6090 - accuracy: 0.7307 - val_loss: 0.7065 - val_accuracy: 0.6761\n",
      "Epoch 10/10\n",
      "70/70 [==============================] - 56s 798ms/step - loss: 0.5763 - accuracy: 0.7630 - val_loss: 0.6625 - val_accuracy: 0.6935\n"
     ]
    }
   ],
   "source": [
    "model.compile(optimizer='sgd',\n",
    "              loss='sparse_categorical_crossentropy',\n",
    "              metrics=['accuracy'])\n",
    "\n",
    "history = model.fit(X_train, y_train, epochs=10, validation_split=0.25)"
   ]
  },
  {
   "cell_type": "code",
   "execution_count": 19,
   "id": "b892a96b",
   "metadata": {},
   "outputs": [],
   "source": [
    "import pickle"
   ]
  },
  {
   "cell_type": "code",
   "execution_count": 21,
   "id": "5f5d544d",
   "metadata": {},
   "outputs": [
    {
     "name": "stdout",
     "output_type": "stream",
     "text": [
      "INFO:tensorflow:Assets written to: ram://9c3f1221-258a-476f-84f0-f24faf7f1ba6/assets\n"
     ]
    }
   ],
   "source": [
    "filename = 'emotion_recognition_cnn.pkl'\n",
    "pickle.dump(model, open(filename, 'wb'))"
   ]
  },
  {
   "cell_type": "code",
   "execution_count": 23,
   "id": "2198a968",
   "metadata": {},
   "outputs": [
    {
     "name": "stdout",
     "output_type": "stream",
     "text": [
      "INFO:tensorflow:Assets written to: C:\\Users\\User\\Desktop\\diploma\\diploma\\backend\\emotion-recognition\\assets\n"
     ]
    }
   ],
   "source": [
    "model.save(\"C:\\\\Users\\\\User\\\\Desktop\\\\diploma\\\\diploma\\\\backend\\\\emotion-recognition\\\\\")"
   ]
  },
  {
   "cell_type": "code",
   "execution_count": 41,
   "id": "ec2fbabe",
   "metadata": {},
   "outputs": [],
   "source": [
    "newFile = \"C:/Users/User/Desktop/diploma/diploma/backend/speech-diarization/try/17_test.wav\""
   ]
  },
  {
   "cell_type": "code",
   "execution_count": 42,
   "id": "ef3beadd",
   "metadata": {},
   "outputs": [
    {
     "name": "stderr",
     "output_type": "stream",
     "text": [
      "C:\\Users\\User\\AppData\\Local\\Temp\\ipykernel_10876\\176945046.py:3: FutureWarning: Pass y=[-0.00201416 -0.00135803 -0.00132751 ... -0.00306702 -0.00126648\n",
      "  0.00228882] as keyword args. From version 0.10 passing these as positional arguments will result in an error\n",
      "  mfcc = librosa.feature.mfcc(wave, n_mfcc=MFCC_NUM, sr=SAMPLING_RATE)\n"
     ]
    },
    {
     "data": {
      "text/plain": [
       "'neutral'"
      ]
     },
     "execution_count": 42,
     "metadata": {},
     "output_type": "execute_result"
    }
   ],
   "source": [
    "wave, sr = librosa.load(newFile, mono=True, sr=44100)\n",
    "wave = wave[::3]\n",
    "mfcc = wav2mfcc(wave)\n",
    "X_test = mfcc.reshape(1, feature_dim_1, feature_dim_2, channel)\n",
    "preds = model.predict(X_test)[0]\n",
    "classes_x=np.argmax(preds,axis=0)\n",
    "emotions_to_string[classes_x]"
   ]
  },
  {
   "cell_type": "code",
   "execution_count": null,
   "id": "86f21df4",
   "metadata": {},
   "outputs": [],
   "source": []
  }
 ],
 "metadata": {
  "kernelspec": {
   "display_name": "Python 3 (ipykernel)",
   "language": "python",
   "name": "python3"
  },
  "language_info": {
   "codemirror_mode": {
    "name": "ipython",
    "version": 3
   },
   "file_extension": ".py",
   "mimetype": "text/x-python",
   "name": "python",
   "nbconvert_exporter": "python",
   "pygments_lexer": "ipython3",
   "version": "3.9.10"
  }
 },
 "nbformat": 4,
 "nbformat_minor": 5
}
